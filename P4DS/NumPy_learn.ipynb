{
 "cells": [
  {
   "cell_type": "markdown",
   "metadata": {},
   "source": [
    "4.1 NumPy的ndarry，一种多维数组对象"
   ]
  },
  {
   "cell_type": "code",
   "execution_count": 19,
   "metadata": {},
   "outputs": [],
   "source": [
    "import numpy as np\n",
    "#有些库的函数名可能与 NumPy 的函数名相同\n",
    "#.randn()：这是 np.random 模块中的一个核心函数。功能：它从标准正态分布"
   ]
  },
  {
   "cell_type": "code",
   "execution_count": 20,
   "metadata": {},
   "outputs": [
    {
     "data": {
      "text/plain": [
       "array([[ 1.17738537,  2.46741925, -0.35129898],\n",
       "       [ 0.17862241,  1.54627748,  0.44509762]])"
      ]
     },
     "execution_count": 20,
     "metadata": {},
     "output_type": "execute_result"
    }
   ],
   "source": [
    "data = np.random.randn(2,3)\n",
    "data"
   ]
  },
  {
   "cell_type": "markdown",
   "metadata": {},
   "source": [
    "数学运算"
   ]
  },
  {
   "cell_type": "code",
   "execution_count": 21,
   "metadata": {},
   "outputs": [
    {
     "data": {
      "text/plain": [
       "array([[11.77385365, 24.67419254, -3.51298983],\n",
       "       [ 1.78622413, 15.46277484,  4.4509762 ]])"
      ]
     },
     "execution_count": 21,
     "metadata": {},
     "output_type": "execute_result"
    }
   ],
   "source": [
    "data * 10"
   ]
  },
  {
   "cell_type": "code",
   "execution_count": 22,
   "metadata": {},
   "outputs": [
    {
     "data": {
      "text/plain": [
       "array([[ 2.35477073,  4.93483851, -0.70259797],\n",
       "       [ 0.35724483,  3.09255497,  0.89019524]])"
      ]
     },
     "execution_count": 22,
     "metadata": {},
     "output_type": "execute_result"
    }
   ],
   "source": [
    "data + data"
   ]
  },
  {
   "cell_type": "code",
   "execution_count": 23,
   "metadata": {},
   "outputs": [
    {
     "data": {
      "text/plain": [
       "(2, 3)"
      ]
     },
     "execution_count": 23,
     "metadata": {},
     "output_type": "execute_result"
    }
   ],
   "source": [
    "data.shape #shape告诉我们数组的结构"
   ]
  },
  {
   "cell_type": "code",
   "execution_count": 24,
   "metadata": {},
   "outputs": [
    {
     "data": {
      "text/plain": [
       "dtype('float64')"
      ]
     },
     "execution_count": 24,
     "metadata": {},
     "output_type": "execute_result"
    }
   ],
   "source": [
    "data.dtype #dtype告诉我们数组里面元素的数据类型"
   ]
  },
  {
   "cell_type": "markdown",
   "metadata": {},
   "source": [
    "创建ndarray，使用array函数。np.array() 是 NumPy 库中最常用、最核心的函数之一。它的主要作用是：\n",
    "\n",
    "将 Python 中的列表 (list)、元组 (tuple) 或任何序列数据，转换成 NumPy 的多维数组 (ndarray)。"
   ]
  },
  {
   "cell_type": "code",
   "execution_count": 25,
   "metadata": {},
   "outputs": [
    {
     "data": {
      "text/plain": [
       "array([6. , 7.5, 8. , 0. , 1. ])"
      ]
     },
     "execution_count": 25,
     "metadata": {},
     "output_type": "execute_result"
    }
   ],
   "source": [
    "data1 = [6,7.5,8,0,1]\n",
    "arr1 = np.array(data1)\n",
    "arr1"
   ]
  },
  {
   "cell_type": "markdown",
   "metadata": {},
   "source": [
    "🧐 核心原因：数据类型向上兼容\n",
    "当您使用 np.array() 创建数组时，NumPy 必须确保数组中的所有元素都具有相同的单一数据类型。\n",
    "\n",
    "输入列表分析： 您的 data1 = [6, 7.5, 8, 0, 1] 包含：\n",
    "\n",
    "整数：6、8、0、1\n",
    "\n",
    "浮点数： 7.5\n",
    "\n",
    "NumPy 的处理：\n",
    "\n",
    "NumPy 发现列表中同时有整数和浮点数。\n",
    "\n",
    "由于浮点数（例如 7.5）比整数（例如 6）具有更高的精度和更广的表示范围，NumPy 必须将所有元素都转换成能容纳最高精度的那个类型。\n",
    "\n",
    "整数可以完美地表示为浮点数（例如 6 变成 6.0），但浮点数无法在不损失精度的情况下表示为整数（例如 7.5 变成 7 就会丢失 .5）。\n",
    "\n",
    "结果： 为了避免数据丢失，NumPy 将整个数组的 数据类型 (dtype) 向上兼容，统一提升为 浮点数类型。\n",
    "\n",
    "因此，输出的 arr1 变成了 [6.0, 7.5, 8.0, 0.0, 1.0]，并且其 dtype 为 float64 (64位浮点数)。"
   ]
  },
  {
   "cell_type": "code",
   "execution_count": 26,
   "metadata": {},
   "outputs": [],
   "source": [
    "#嵌套序列（比如一组等长的列表组成的列表）将会变成一个多维数组"
   ]
  },
  {
   "cell_type": "code",
   "execution_count": 27,
   "metadata": {},
   "outputs": [
    {
     "data": {
      "text/plain": [
       "array([[1, 2, 3, 4],\n",
       "       [5, 6, 7, 8]])"
      ]
     },
     "execution_count": 27,
     "metadata": {},
     "output_type": "execute_result"
    }
   ],
   "source": [
    "data2 = [[1,2,3,4],[5,6,7,8]]\n",
    "arr2 = np.array(data2)\n",
    "arr2"
   ]
  },
  {
   "cell_type": "code",
   "execution_count": 28,
   "metadata": {},
   "outputs": [
    {
     "data": {
      "text/plain": [
       "2"
      ]
     },
     "execution_count": 28,
     "metadata": {},
     "output_type": "execute_result"
    }
   ],
   "source": [
    "arr2.ndim\n",
    "#矩阵的维度"
   ]
  },
  {
   "cell_type": "markdown",
   "metadata": {},
   "source": [
    "![维度举例](维度解释.png)\n",
    "\n",
    "就是 NumPy 告诉 “沿着哪个方向进行计算” 的关键指令"
   ]
  },
  {
   "cell_type": "code",
   "execution_count": 29,
   "metadata": {},
   "outputs": [
    {
     "data": {
      "text/plain": [
       "(2, 4)"
      ]
     },
     "execution_count": 29,
     "metadata": {},
     "output_type": "execute_result"
    }
   ],
   "source": [
    "arr2.shape\n",
    "#shape显示元组中的每个数字都精确地告诉您该维度（轴）上有多少元素"
   ]
  },
  {
   "cell_type": "code",
   "execution_count": 30,
   "metadata": {},
   "outputs": [
    {
     "data": {
      "text/plain": [
       "dtype('float64')"
      ]
     },
     "execution_count": 30,
     "metadata": {},
     "output_type": "execute_result"
    }
   ],
   "source": [
    "arr1.dtype"
   ]
  },
  {
   "cell_type": "code",
   "execution_count": 31,
   "metadata": {},
   "outputs": [
    {
     "data": {
      "text/plain": [
       "dtype('int64')"
      ]
     },
     "execution_count": 31,
     "metadata": {},
     "output_type": "execute_result"
    }
   ],
   "source": [
    "arr2.dtype"
   ]
  },
  {
   "cell_type": "code",
   "execution_count": 32,
   "metadata": {},
   "outputs": [
    {
     "data": {
      "text/plain": [
       "array([0., 0., 0., 0., 0., 0., 0., 0., 0., 0.])"
      ]
     },
     "execution_count": 32,
     "metadata": {},
     "output_type": "execute_result"
    }
   ],
   "source": [
    "np.zeros(10) #ones是创建全1的数组"
   ]
  },
  {
   "cell_type": "code",
   "execution_count": 33,
   "metadata": {},
   "outputs": [
    {
     "data": {
      "text/plain": [
       "array([[[1.54871229e-311, 2.47032823e-322],\n",
       "        [0.00000000e+000, 0.00000000e+000],\n",
       "        [1.06811422e-306, 3.69776220e-062]],\n",
       "\n",
       "       [[4.22470811e-090, 1.33621712e+165],\n",
       "        [1.53430554e-052, 5.54915850e+170],\n",
       "        [3.99910963e+252, 2.00298098e-076]]])"
      ]
     },
     "execution_count": 33,
     "metadata": {},
     "output_type": "execute_result"
    }
   ],
   "source": [
    "np.empty((2,3,2))\n",
    "#很多情况下np.empty会返回很多未初始化的垃圾值"
   ]
  },
  {
   "cell_type": "code",
   "execution_count": 34,
   "metadata": {},
   "outputs": [
    {
     "data": {
      "text/plain": [
       "array([ 0,  1,  2,  3,  4,  5,  6,  7,  8,  9, 10, 11, 12, 13, 14])"
      ]
     },
     "execution_count": 34,
     "metadata": {},
     "output_type": "execute_result"
    }
   ],
   "source": [
    "#arrange是python内置range的数组版\n",
    "np.arange(15)"
   ]
  },
  {
   "cell_type": "markdown",
   "metadata": {},
   "source": [
    "dtype 在 NumPy 中是 Data Type（数据类型）的缩写，它是 NumPy 数组 (ndarray) 中 最核心的属性之一。\n",
    "\n",
    "💡 dtype 的核心含义\n",
    "dtype 描述了数组中 每个元素 所占用的内存大小和数据种类。\n",
    "\n",
    "简单来说，dtype 就是告诉 NumPy：“这个数组中的所有值都是什么类型的数据，以及它们应该在内存中占用多少空间。”\n",
    "\n",
    "1. 它是统一的（Homogeneous）\n",
    "这是 dtype 与 Python 列表最本质的区别：\n",
    "\n",
    "NumPy 数组： 数组中所有元素的 dtype 必须是相同的（例如，全部是 64 位整数，或全部是 32 位浮点数）。这是 NumPy 能够进行高效矢量化计算的基础。\n",
    "\n",
    "Python 列表： 列表可以存储混合类型（例如，一个整数、一个字符串、一个浮点数）。\n",
    "\n",
    "2. 它是内存效率的关键\n",
    "dtype 允许您精确控制数据占用的内存。例如：\n",
    "\n",
    "如果您的数据都是 0 到 255 之间的整数（例如图像的像素值），您可以使用 np.uint8（8 位无符号整数）。\n",
    "\n",
    "相比默认的 np.int64（64 位整数），使用 np.uint8 可以节省 8 倍 的内存空间。\n",
    "astype() 是 NumPy 数组 (ndarray) 中一个非常重要的 方法，它的作用是：\n",
    "\n",
    "强制转换数组中所有元素的数据类型（dtype）。\n",
    "\n",
    "💡 astype() 的核心作用\n",
    "当您需要将数组中的数据从一种类型（例如浮点数 float64）精确地转换成另一种类型（例如整数 int32 或布尔值 bool）时，就需要用到 astype()。\n",
    "\n",
    "语法\n",
    "Python\n",
    "\n",
    "new_array = arr.astype(dtype, copy=True)\n",
    "dtype (必需)： 您希望数组转换成的目标数据类型，可以是 NumPy 的 dtype 对象（如 np.int32）或 Python 的类型（如 int）。\n",
    "\n",
    "1. 降级/升级数据类型\n",
    "您可以利用 astype() 来优化内存使用或确保计算精度。\n"
   ]
  },
  {
   "cell_type": "code",
   "execution_count": null,
   "metadata": {},
   "outputs": [],
   "source": [
    "import numpy as np\n",
    "\n",
    "# 原始数组是浮点数 dtype=float64\n",
    "arr_float = np.array([1.2, 5.8, 9.1, 0.5]) \n",
    "print(arr_float) \n",
    "# 输出: [1.2 5.8 9.1 0.5]\n",
    "\n",
    "# 强制转换成整数 (astype(int) 或 astype(np.int32))\n",
    "arr_int = arr_float.astype(int) \n",
    "\n",
    "print(arr_int)\n",
    "# 输出: [1 5 9 0] \n",
    "# 注意：浮点数的小数点部分被直接截断（不是四舍五入）"
   ]
  },
  {
   "cell_type": "code",
   "execution_count": 16,
   "metadata": {},
   "outputs": [],
   "source": [
    "arr1 = np.array([1,2,3],dtype=np.float64)\n",
    "arr2 = np.array([1,2,3],dtype=np.int32)"
   ]
  },
  {
   "cell_type": "code",
   "execution_count": 17,
   "metadata": {},
   "outputs": [
    {
     "data": {
      "text/plain": [
       "dtype('float64')"
      ]
     },
     "execution_count": 17,
     "metadata": {},
     "output_type": "execute_result"
    }
   ],
   "source": [
    "arr1.dtype"
   ]
  },
  {
   "cell_type": "code",
   "execution_count": 35,
   "metadata": {},
   "outputs": [
    {
     "data": {
      "text/plain": [
       "dtype('int64')"
      ]
     },
     "execution_count": 35,
     "metadata": {},
     "output_type": "execute_result"
    }
   ],
   "source": [
    "arr2.dtype"
   ]
  },
  {
   "cell_type": "markdown",
   "metadata": {},
   "source": [
    "NumPy数组的运算"
   ]
  },
  {
   "cell_type": "code",
   "execution_count": 2,
   "metadata": {},
   "outputs": [],
   "source": [
    "import numpy as np"
   ]
  },
  {
   "cell_type": "code",
   "execution_count": 9,
   "metadata": {},
   "outputs": [],
   "source": [
    "arr = np.array([[1.,2.,3.],[4.,5.,6.]])"
   ]
  },
  {
   "cell_type": "code",
   "execution_count": 5,
   "metadata": {},
   "outputs": [
    {
     "data": {
      "text/plain": [
       "array([[1., 2., 3.],\n",
       "       [4., 5., 6.]])"
      ]
     },
     "execution_count": 5,
     "metadata": {},
     "output_type": "execute_result"
    }
   ],
   "source": [
    "arr"
   ]
  },
  {
   "cell_type": "code",
   "execution_count": 6,
   "metadata": {},
   "outputs": [
    {
     "data": {
      "text/plain": [
       "array([[ 1.,  4.,  9.],\n",
       "       [16., 25., 36.]])"
      ]
     },
     "execution_count": 6,
     "metadata": {},
     "output_type": "execute_result"
    }
   ],
   "source": [
    "arr * arr"
   ]
  },
  {
   "cell_type": "code",
   "execution_count": 7,
   "metadata": {},
   "outputs": [
    {
     "data": {
      "text/plain": [
       "array([[0., 0., 0.],\n",
       "       [0., 0., 0.]])"
      ]
     },
     "execution_count": 7,
     "metadata": {},
     "output_type": "execute_result"
    }
   ],
   "source": [
    "arr - arr"
   ]
  },
  {
   "cell_type": "code",
   "execution_count": 8,
   "metadata": {},
   "outputs": [
    {
     "data": {
      "text/plain": [
       "array([[1.        , 1.41421356, 1.73205081],\n",
       "       [2.        , 2.23606798, 2.44948974]])"
      ]
     },
     "execution_count": 8,
     "metadata": {},
     "output_type": "execute_result"
    }
   ],
   "source": [
    "arr ** 0.5 #每个元素开平方根"
   ]
  },
  {
   "cell_type": "markdown",
   "metadata": {},
   "source": [
    "大小相同的数组之间的比较会生成布尔值数组"
   ]
  },
  {
   "cell_type": "code",
   "execution_count": 11,
   "metadata": {},
   "outputs": [],
   "source": [
    "arr2 = np.array([[0.0,4.,1.],[7.,2.,12.]])"
   ]
  },
  {
   "cell_type": "code",
   "execution_count": 12,
   "metadata": {},
   "outputs": [
    {
     "data": {
      "text/plain": [
       "array([[ 0.,  4.,  1.],\n",
       "       [ 7.,  2., 12.]])"
      ]
     },
     "execution_count": 12,
     "metadata": {},
     "output_type": "execute_result"
    }
   ],
   "source": [
    "arr2"
   ]
  },
  {
   "cell_type": "code",
   "execution_count": 13,
   "metadata": {},
   "outputs": [
    {
     "data": {
      "text/plain": [
       "array([[False,  True, False],\n",
       "       [ True, False,  True]])"
      ]
     },
     "execution_count": 13,
     "metadata": {},
     "output_type": "execute_result"
    }
   ],
   "source": [
    "arr2 > arr"
   ]
  },
  {
   "cell_type": "markdown",
   "metadata": {},
   "source": [
    "索引与切片"
   ]
  },
  {
   "cell_type": "code",
   "execution_count": 14,
   "metadata": {},
   "outputs": [],
   "source": [
    "arr = np.arange(10)"
   ]
  },
  {
   "cell_type": "code",
   "execution_count": 15,
   "metadata": {},
   "outputs": [
    {
     "data": {
      "text/plain": [
       "array([0, 1, 2, 3, 4, 5, 6, 7, 8, 9])"
      ]
     },
     "execution_count": 15,
     "metadata": {},
     "output_type": "execute_result"
    }
   ],
   "source": [
    "arr"
   ]
  },
  {
   "cell_type": "code",
   "execution_count": 16,
   "metadata": {},
   "outputs": [
    {
     "data": {
      "text/plain": [
       "np.int64(5)"
      ]
     },
     "execution_count": 16,
     "metadata": {},
     "output_type": "execute_result"
    }
   ],
   "source": [
    "arr[5]"
   ]
  },
  {
   "cell_type": "code",
   "execution_count": 17,
   "metadata": {},
   "outputs": [
    {
     "data": {
      "text/plain": [
       "array([5, 6, 7])"
      ]
     },
     "execution_count": 17,
     "metadata": {},
     "output_type": "execute_result"
    }
   ],
   "source": [
    "arr[5:8] #从索引5开始，不包含索引为8的元素"
   ]
  },
  {
   "cell_type": "code",
   "execution_count": null,
   "metadata": {},
   "outputs": [],
   "source": []
  },
  {
   "cell_type": "markdown",
   "metadata": {},
   "source": [
    "执行赋值（广播机制）：\n",
    "\n",
    "接着，NumPy 尝试将单个标量值 12 赋给这个切片。\n",
    "\n",
    "由于 NumPy 的广播机制（Broadcasting），单个标量 12 会被自动扩展，以匹配切片 [5, 6, 7] 的形状。\n",
    "\n",
    "最终，切片中的所有元素 都会被 12 覆盖"
   ]
  },
  {
   "cell_type": "code",
   "execution_count": 18,
   "metadata": {},
   "outputs": [],
   "source": [
    "arr[5:8] = 12"
   ]
  },
  {
   "cell_type": "code",
   "execution_count": 19,
   "metadata": {},
   "outputs": [
    {
     "data": {
      "text/plain": [
       "array([ 0,  1,  2,  3,  4, 12, 12, 12,  8,  9])"
      ]
     },
     "execution_count": 19,
     "metadata": {},
     "output_type": "execute_result"
    }
   ],
   "source": [
    "arr"
   ]
  },
  {
   "cell_type": "code",
   "execution_count": 20,
   "metadata": {},
   "outputs": [],
   "source": [
    "arr_slice = arr[5:8]"
   ]
  },
  {
   "cell_type": "code",
   "execution_count": 21,
   "metadata": {},
   "outputs": [
    {
     "data": {
      "text/plain": [
       "array([12, 12, 12])"
      ]
     },
     "execution_count": 21,
     "metadata": {},
     "output_type": "execute_result"
    }
   ],
   "source": [
    "arr_slice"
   ]
  },
  {
   "cell_type": "code",
   "execution_count": 22,
   "metadata": {},
   "outputs": [],
   "source": [
    "arr_slice[1] = 12345"
   ]
  },
  {
   "cell_type": "code",
   "execution_count": 23,
   "metadata": {},
   "outputs": [
    {
     "data": {
      "text/plain": [
       "array([    0,     1,     2,     3,     4,    12, 12345,    12,     8,\n",
       "           9])"
      ]
     },
     "execution_count": 23,
     "metadata": {},
     "output_type": "execute_result"
    }
   ],
   "source": [
    "arr"
   ]
  },
  {
   "cell_type": "markdown",
   "metadata": {},
   "source": [
    "💡 核心概念：NumPy 切片是“视图” (View)\n",
    "在 NumPy 中，当您使用切片（例如 arr[5:8]）来获取数组的一部分时，NumPy 默认返回的是一个 视图（View），而不是一个完全独立的数据副本（Copy）。\n",
    "\n",
    "什么是视图？\n",
    "视图 就像一个窗口，它让您可以查看和操作原始数组的同一块数据内存。\n",
    "\n",
    "修改切片 = 修改原数组： 因为切片和原数组指向的是内存中的同一块数据，所以您通过切片对值进行的任何修改（例如 arr[5:8] = 12），都会直接反映在原始数组上。原数组的值因此被永久改变。\n",
    "\n",
    "为什么这样做？\n",
    "NumPy 采用这种视图机制是为了 提高效率，尤其是在处理大型数据集时：\n",
    "\n",
    "内存效率： 它避免了在内存中为切片数据创建完整的、新的副本。\n",
    "\n",
    "速度： 节省了复制大量数据所需的时间。\n",
    "\n",
    "如何避免原数组被修改？\n",
    "如果您只想获取一部分数据进行操作，而不希望修改原数组，您必须明确地告诉 NumPy 创建一个 副本（Copy）。\n",
    "\n",
    "您可以使用 .copy() 方法来实现：\n"
   ]
  },
  {
   "cell_type": "code",
   "execution_count": null,
   "metadata": {},
   "outputs": [],
   "source": [
    "# 创建一个切片的副本\n",
    "arr_copy = arr[5:8].copy()\n",
    "\n",
    "# 此时，修改 arr_copy 不会影响原始数组 arr\n",
    "arr_copy[:] = 99\n",
    "# arr 保持不变"
   ]
  },
  {
   "cell_type": "code",
   "execution_count": 24,
   "metadata": {},
   "outputs": [],
   "source": [
    "#二维数组的情况\n",
    "arr2d = np.array([[1,2,3],[4,5,6],[7,8,9]])"
   ]
  },
  {
   "cell_type": "code",
   "execution_count": 25,
   "metadata": {},
   "outputs": [
    {
     "data": {
      "text/plain": [
       "array([7, 8, 9])"
      ]
     },
     "execution_count": 25,
     "metadata": {},
     "output_type": "execute_result"
    }
   ],
   "source": [
    "arr2d[2] #索引为2的数组"
   ]
  },
  {
   "cell_type": "code",
   "execution_count": 26,
   "metadata": {},
   "outputs": [
    {
     "data": {
      "text/plain": [
       "np.int64(3)"
      ]
     },
     "execution_count": 26,
     "metadata": {},
     "output_type": "execute_result"
    }
   ],
   "source": [
    "arr2d[0][2]"
   ]
  },
  {
   "cell_type": "code",
   "execution_count": 27,
   "metadata": {},
   "outputs": [
    {
     "data": {
      "text/plain": [
       "np.int64(3)"
      ]
     },
     "execution_count": 27,
     "metadata": {},
     "output_type": "execute_result"
    }
   ],
   "source": [
    "arr2d[0,2]  #也可以用逗号隔开，与上面的方式等价"
   ]
  },
  {
   "cell_type": "markdown",
   "metadata": {},
   "source": [
    "在多维数组中，如果省略了后面的索引，则返回对象会是一个维度低一点的ndarray（它含有高一\n",
    "级维度上的所有数据）"
   ]
  },
  {
   "cell_type": "code",
   "execution_count": null,
   "metadata": {},
   "outputs": [],
   "source": [
    "切片索引"
   ]
  },
  {
   "cell_type": "markdown",
   "metadata": {},
   "source": [
    "对于之前的二维数组arr2d，其切片方式稍显不同："
   ]
  },
  {
   "cell_type": "code",
   "execution_count": 28,
   "metadata": {},
   "outputs": [
    {
     "data": {
      "text/plain": [
       "array([[1, 2, 3],\n",
       "       [4, 5, 6],\n",
       "       [7, 8, 9]])"
      ]
     },
     "execution_count": 28,
     "metadata": {},
     "output_type": "execute_result"
    }
   ],
   "source": [
    "arr2d"
   ]
  },
  {
   "cell_type": "code",
   "execution_count": 29,
   "metadata": {},
   "outputs": [
    {
     "data": {
      "text/plain": [
       "array([[1, 2, 3],\n",
       "       [4, 5, 6]])"
      ]
     },
     "execution_count": 29,
     "metadata": {},
     "output_type": "execute_result"
    }
   ],
   "source": [
    "arr2d[:2]"
   ]
  },
  {
   "cell_type": "code",
   "execution_count": 30,
   "metadata": {},
   "outputs": [
    {
     "data": {
      "text/plain": [
       "array([[2, 3],\n",
       "       [5, 6]])"
      ]
     },
     "execution_count": 30,
     "metadata": {},
     "output_type": "execute_result"
    }
   ],
   "source": [
    " arr2d[:2, 1:]"
   ]
  },
  {
   "cell_type": "markdown",
   "metadata": {},
   "source": [
    "![图片](多维切片1.png)\n"
   ]
  },
  {
   "cell_type": "markdown",
   "metadata": {},
   "source": [
    "![图片](多维切片2.png)"
   ]
  },
  {
   "cell_type": "markdown",
   "metadata": {},
   "source": [
    "![图片](多维切片3.png)\n",
    "\n",
    "![图片](多维切片4.png)\n",
    "\n",
    "![图片](多维切片5.png)\n",
    "\n",
    "![图片](多维切片6.png)"
   ]
  },
  {
   "cell_type": "markdown",
   "metadata": {},
   "source": [
    "布尔型索引"
   ]
  },
  {
   "cell_type": "code",
   "execution_count": 31,
   "metadata": {},
   "outputs": [],
   "source": [
    "names = np.array(['Bob', 'Joe', 'Will', 'Bob', 'Will', 'Joe', 'Joe'])\n",
    "data = np.random.randn(7, 4)"
   ]
  },
  {
   "cell_type": "code",
   "execution_count": 32,
   "metadata": {},
   "outputs": [
    {
     "data": {
      "text/plain": [
       "array(['Bob', 'Joe', 'Will', 'Bob', 'Will', 'Joe', 'Joe'], dtype='<U4')"
      ]
     },
     "execution_count": 32,
     "metadata": {},
     "output_type": "execute_result"
    }
   ],
   "source": [
    "names"
   ]
  },
  {
   "cell_type": "code",
   "execution_count": 33,
   "metadata": {},
   "outputs": [
    {
     "data": {
      "text/plain": [
       "array([[-2.24835373, -0.8810108 ,  1.2573555 ,  0.8913723 ],\n",
       "       [ 0.57013382,  0.62496647,  1.67030863, -2.36101031],\n",
       "       [-0.18837014,  1.51854607,  0.89776439, -0.13020142],\n",
       "       [ 0.05682474, -0.26718674,  0.60893517,  1.19359226],\n",
       "       [-1.0155846 ,  0.32999704, -0.62540733,  1.14002731],\n",
       "       [-1.55433229, -0.81285402, -0.60381784,  1.0204338 ],\n",
       "       [ 0.0765206 ,  0.4339776 ,  0.6956625 ,  0.4752565 ]])"
      ]
     },
     "execution_count": 33,
     "metadata": {},
     "output_type": "execute_result"
    }
   ],
   "source": [
    "data"
   ]
  },
  {
   "cell_type": "code",
   "execution_count": 35,
   "metadata": {},
   "outputs": [
    {
     "data": {
      "text/plain": [
       "array([ True, False, False,  True, False, False, False])"
      ]
     },
     "execution_count": 35,
     "metadata": {},
     "output_type": "execute_result"
    }
   ],
   "source": [
    "names == 'Bob'"
   ]
  },
  {
   "cell_type": "code",
   "execution_count": 36,
   "metadata": {},
   "outputs": [
    {
     "data": {
      "text/plain": [
       "array([[-2.24835373, -0.8810108 ,  1.2573555 ,  0.8913723 ],\n",
       "       [ 0.05682474, -0.26718674,  0.60893517,  1.19359226]])"
      ]
     },
     "execution_count": 36,
     "metadata": {},
     "output_type": "execute_result"
    }
   ],
   "source": [
    "#利用这个进行索引\n",
    "data[names =='Bob']"
   ]
  },
  {
   "cell_type": "markdown",
   "metadata": {},
   "source": [
    "🚀 布尔索引的实际用途：高效的数据筛选\n",
    "布尔索引的核心价值在于，它允许您 根据数据的逻辑条件，快速、矢量化地筛选出数组的子集，而无需使用缓慢的 Python 循环。\n",
    "\n"
   ]
  },
  {
   "cell_type": "code",
   "execution_count": 38,
   "metadata": {},
   "outputs": [
    {
     "data": {
      "text/plain": [
       "array([32, 35])"
      ]
     },
     "execution_count": 38,
     "metadata": {},
     "output_type": "execute_result"
    }
   ],
   "source": [
    "#1. 数据过滤与清洗（Filtering Data）\n",
    "#这是最直接的应用。您可以用一个逻辑条件轻松地从数组中筛选出所有符合条件的元素。\n",
    "#场景： 从一组温度读数中，找出所有温度 高于 30 度的值\n",
    "temperatures = np.array([25, 32, 28, 35, 29])\n",
    "hot_temps = temperatures[temperatures > 30]\n",
    "hot_temps\n",
    "# 结果: [32, 35]"
   ]
  },
  {
   "cell_type": "markdown",
   "metadata": {},
   "source": [
    "💡 本质总结：布尔索引 = 逻辑筛选\n",
    "，布尔索引虽然叫这个名字，但它在 NumPy 中的核心作用正是：从逻辑出发，利用表达式来限制和过滤数据。"
   ]
  },
  {
   "cell_type": "code",
   "execution_count": null,
   "metadata": {},
   "outputs": [],
   "source": [
    "#在传统的 Python 编程中，要实现“筛选出所有名字是 'Bob' 的数据”，需要写一个 for 循环：\n",
    "\n",
    "\n",
    "#传统的 Python 做法\n",
    "filtered_data = []\n",
    "for i in range(len(names)):\n",
    "    if names[i] == 'Bob':\n",
    "        filtered_data.append(data[i])\n",
    "#但在 NumPy 中，您利用 布尔索引，将整个筛选逻辑 矢量化了：\n",
    "\n",
    "\n",
    "#NumPy 的做法 (矢量化)\n",
    "filtered_data = data[names == 'Bob']"
   ]
  },
  {
   "cell_type": "markdown",
   "metadata": {},
   "source": [
    "🚀 花式索引 (Fancy Indexing) 解释\n",
    "花式索引指的是使用 整数数组 来进行数据索引和提取。它允许您基于一个列表或数组指定的任意位置，一次性提取出数组中的多个不连续的元素。\n",
    "\n",
    "1. 核心原理：使用整数数组作为索引\n",
    "当您使用一个包含整数的 NumPy 数组（或 Python 列表）作为索引时，NumPy 不会将它解释为切片（如 [5:8]），而是将其视为一个需要提取的位置列表。"
   ]
  },
  {
   "cell_type": "code",
   "execution_count": null,
   "metadata": {},
   "outputs": [],
   "source": [
    "\n",
    "#示例：一维数组\n",
    "#假设想从一个数组中提取索引位置为 0、4 和 8 的元素：\n",
    "arr = np.arange(10)  # [0, 1, 2, 3, 4, 5, 6, 7, 8, 9]\n",
    "\n",
    "# 使用一个列表或数组作为索引\n",
    "indices = [0, 4, 8]\n",
    "result = arr[indices]\n",
    "\n",
    "# 结果：[0, 4, 8]"
   ]
  },
  {
   "cell_type": "markdown",
   "metadata": {},
   "source": [
    "2. 实际用途：灵活的数据重排和选择\n",
    "花式索引主要用于需要对数据进行非顺序、复杂重排或多次选择的场景。"
   ]
  },
  {
   "cell_type": "code",
   "execution_count": null,
   "metadata": {},
   "outputs": [],
   "source": [
    "#a. 提取特定行/列\n",
    "#在二维数组中，花式索引可以精确地指定要提取的行或列：\n",
    "arr2d = np.array([[10, 11, 12],\n",
    "                  [20, 21, 22],\n",
    "                  [30, 31, 32],\n",
    "                  [40, 41, 42]])\n",
    "#提取第 0 行和第 2 行:\n",
    "rows = arr2d[[0, 2]]\n",
    "# 结果: [[10, 11, 12],\n",
    "#        [30, 31, 32]]\n"
   ]
  },
  {
   "cell_type": "code",
   "execution_count": null,
   "metadata": {},
   "outputs": [],
   "source": [
    "#b. 提取特定行与特定列的交叉点（高级花式索引）\n",
    "#当在两个轴上都使用花式索引时，它们会被解释为提取坐标对：\n",
    "# 提取 (行索引, 列索引) 对应的元素\n",
    "# 提取 (0, 0), (1, 2), (3, 1) 这三个元素\n",
    "row_indices = [0, 1, 3]\n",
    "col_indices = [0, 2, 1]\n",
    "\n",
    "result = arr2d[row_indices, col_indices]\n",
    "# 结果: [arr2d[0, 0], arr2d[1, 2], arr2d[3, 1]]\n",
    "# 结果: [10, 22, 41]"
   ]
  },
  {
   "cell_type": "markdown",
   "metadata": {},
   "source": [
    "![对比](%E5%B8%83%E5%B0%94%E4%B8%8E%E8%8A%B1%E5%BC%8F%E5%AF%B9%E6%AF%94.png)"
   ]
  },
  {
   "cell_type": "markdown",
   "metadata": {},
   "source": [
    "#简单的数组转置"
   ]
  },
  {
   "cell_type": "code",
   "execution_count": 39,
   "metadata": {},
   "outputs": [],
   "source": [
    "arr = np.arange(15).reshape(3,5)"
   ]
  },
  {
   "cell_type": "code",
   "execution_count": 40,
   "metadata": {},
   "outputs": [
    {
     "data": {
      "text/plain": [
       "array([[ 0,  1,  2,  3,  4],\n",
       "       [ 5,  6,  7,  8,  9],\n",
       "       [10, 11, 12, 13, 14]])"
      ]
     },
     "execution_count": 40,
     "metadata": {},
     "output_type": "execute_result"
    }
   ],
   "source": [
    "arr"
   ]
  },
  {
   "cell_type": "code",
   "execution_count": 41,
   "metadata": {},
   "outputs": [
    {
     "data": {
      "text/plain": [
       "array([[ 0,  5, 10],\n",
       "       [ 1,  6, 11],\n",
       "       [ 2,  7, 12],\n",
       "       [ 3,  8, 13],\n",
       "       [ 4,  9, 14]])"
      ]
     },
     "execution_count": 41,
     "metadata": {},
     "output_type": "execute_result"
    }
   ],
   "source": [
    "arr.T"
   ]
  },
  {
   "cell_type": "markdown",
   "metadata": {},
   "source": [
    "🚀 通用函数 (ufunc) 的核心解释\n",
    "ufunc 的本质是：对 NumPy 数组进行元素级（element-wise）操作的函数。\n",
    "\n",
    "它们是经过高度优化的 C 语言函数封装，可以快速地对整个数组或多个数组的对应元素进行操作，而不需要编写任何 Python 循环。"
   ]
  },
  {
   "cell_type": "markdown",
   "metadata": {},
   "source": [
    "![通用函数](通用函数1.png)\n",
    "\n",
    "![通用函数](通用函数2.png)\n",
    "\n",
    "![通用函数](通用函数3.png)"
   ]
  },
  {
   "cell_type": "markdown",
   "metadata": {},
   "source": [
    "np.where 是 NumPy 中一个非常强大的函数，它允许您执行 条件逻辑操作（Conditional Logic），类似于 Python 中的 if-else 语句，但它是以高性能的 矢量化 方式作用于整个数组。"
   ]
  },
  {
   "cell_type": "code",
   "execution_count": null,
   "metadata": {},
   "outputs": [],
   "source": [
    "#1. 完整形式：条件赋值/替换 (最常用)\n",
    "#这是 np.where 最常见的用法，它用于根据一个条件数组，在两个值（或数组）之间进行选择。\n",
    "\n",
    "#语法：\n",
    "#np.where(condition, x, y)\n",
    "#作用遍历 condition 数组中的每个元素：如果元素为 True，则返回 x 中对应位置的值。如果元素为 False，则返回 y 中对应位置的值。\n",
    "\n",
    "#示例：数据清洗\n",
    "\n",
    "#假设我们想将数组中所有正数保持不变，而将非正数（0 或负数）替换为 0。\n",
    "\n",
    "\n",
    "arr = np.array([-1, 5, 0, 8, -3])\n",
    "\n",
    "# condition: arr > 0\n",
    "# x: arr (如果为True，保留原值)\n",
    "# y: 0   (如果为False，替换为0)\n",
    "\n",
    "result = np.where(arr > 0, arr, 0)\n",
    "# 结果: [0, 5, 0, 8, 0]"
   ]
  },
  {
   "cell_type": "code",
   "execution_count": null,
   "metadata": {},
   "outputs": [],
   "source": [
    "#2. 简化形式：获取索引位置\n",
    "#当您只提供 condition 一个参数时，np.where 不会返回新的数组值，而是返回一个元组，其中包含满足条件的元素的 索引位置。\n",
    "\n",
    "#语法：\n",
    "\n",
    "np.where(condition)\n",
    "作用：返回一个元组，元组的长度与数组的维度 (ndim) 相同。元组中的每个元素是一个一维数组，包含了满足条件（值为 True）的元素的坐标。\n",
    "\n",
    "#示例：获取位置\n",
    "\n",
    "#我们想知道数组中所有 大于 5 的元素的位置：\n",
    "\n",
    "\n",
    "\n",
    "arr2d = np.array([[1, 6], [8, 3]])\n",
    "\n",
    "# condition: arr2d > 5\n",
    "# 布尔数组: [[False, True], [True, False]]\n",
    "\n",
    "result = np.where(arr2d > 5)\n",
    "# 结果: (array([0, 1]), array([1, 0]))\n",
    "#元组的第一个数组 ([0, 1]) 是 行索引。\n",
    "\n",
    "#元组的第二个数组 ([1, 0]) 是 列索引。\n",
    "\n",
    "#这表示满足条件的元素在坐标 (0, 1) 和 (1, 0) 处（即值 6 和 8 的位置）。"
   ]
  },
  {
   "cell_type": "markdown",
   "metadata": {},
   "source": [
    "总结\n",
    "np.where 是将 条件逻辑 融入 NumPy 矢量化流程的关键工具，相比于 Python 列表推导式或循环，它在处理大型数据集时提供了巨大的速度优势。"
   ]
  },
  {
   "cell_type": "markdown",
   "metadata": {},
   "source": [
    "一些简单的数学统计方法"
   ]
  },
  {
   "cell_type": "code",
   "execution_count": 2,
   "metadata": {},
   "outputs": [],
   "source": [
    "import numpy as np"
   ]
  },
  {
   "cell_type": "code",
   "execution_count": 3,
   "metadata": {},
   "outputs": [],
   "source": [
    "arr = np.random.randn(5,4)"
   ]
  },
  {
   "cell_type": "code",
   "execution_count": 4,
   "metadata": {},
   "outputs": [
    {
     "data": {
      "text/plain": [
       "array([[ 0.0841785 ,  0.92945702,  1.16164923, -0.6159655 ],\n",
       "       [ 0.21005414, -0.2538009 ,  0.87147185, -0.99427425],\n",
       "       [-0.66795988, -0.28054074, -1.33996793,  0.66640938],\n",
       "       [ 0.63129456,  0.80822827,  0.48924861, -0.03333819],\n",
       "       [ 0.98386328,  1.72335204, -0.08654977, -0.88086856]])"
      ]
     },
     "execution_count": 4,
     "metadata": {},
     "output_type": "execute_result"
    }
   ],
   "source": [
    "arr"
   ]
  },
  {
   "cell_type": "code",
   "execution_count": 5,
   "metadata": {},
   "outputs": [
    {
     "data": {
      "text/plain": [
       "np.float64(0.1702970572947256)"
      ]
     },
     "execution_count": 5,
     "metadata": {},
     "output_type": "execute_result"
    }
   ],
   "source": [
    "arr.mean()  #计算数组中所有元素的和。"
   ]
  },
  {
   "cell_type": "code",
   "execution_count": 6,
   "metadata": {},
   "outputs": [
    {
     "data": {
      "text/plain": [
       "np.float64(3.405941145894512)"
      ]
     },
     "execution_count": 6,
     "metadata": {},
     "output_type": "execute_result"
    }
   ],
   "source": [
    "arr.sum()   #计算所有元素的算术平均值（均值）。"
   ]
  },
  {
   "cell_type": "code",
   "execution_count": 7,
   "metadata": {},
   "outputs": [
    {
     "data": {
      "text/plain": [
       "array([ 0.38982981, -0.04163729, -0.40551479,  0.47385831,  0.43494924])"
      ]
     },
     "execution_count": 7,
     "metadata": {},
     "output_type": "execute_result"
    }
   ],
   "source": [
    "arr.mean(axis=1)    #可以接受axis选项参数，计算行的平均值"
   ]
  },
  {
   "cell_type": "code",
   "execution_count": 8,
   "metadata": {},
   "outputs": [
    {
     "data": {
      "text/plain": [
       "array([ 1.2414306 ,  2.92669569,  1.09585198, -1.85803713])"
      ]
     },
     "execution_count": 8,
     "metadata": {},
     "output_type": "execute_result"
    }
   ],
   "source": [
    "arr.sum(axis=0)     #计算每列的和"
   ]
  },
  {
   "cell_type": "markdown",
   "metadata": {},
   "source": [
    "np.cumsum(arr)\t计算所有元素的累积和（Cumulative Sum）。返回与原数组形状相同的数组。\n",
    "np.cumprod(arr)\t计算所有元素的累积乘积（Cumulative Product）。"
   ]
  },
  {
   "cell_type": "markdown",
   "metadata": {},
   "source": [
    "上面方法中布尔值会被强制转换为1和0。常用sum,any(测试数组中是否存在一个或者多个True),all(检查数组中所以值是否都为True)"
   ]
  },
  {
   "cell_type": "code",
   "execution_count": 9,
   "metadata": {},
   "outputs": [],
   "source": [
    "arr = np.random.randn(6)"
   ]
  },
  {
   "cell_type": "code",
   "execution_count": 10,
   "metadata": {},
   "outputs": [
    {
     "data": {
      "text/plain": [
       "array([-0.49074487, -0.38786093, -1.54972576,  0.91143097, -0.5761164 ,\n",
       "       -0.84199275])"
      ]
     },
     "execution_count": 10,
     "metadata": {},
     "output_type": "execute_result"
    }
   ],
   "source": [
    "arr"
   ]
  },
  {
   "cell_type": "code",
   "execution_count": 13,
   "metadata": {},
   "outputs": [],
   "source": [
    "arr.sort()"
   ]
  },
  {
   "cell_type": "code",
   "execution_count": 14,
   "metadata": {},
   "outputs": [
    {
     "data": {
      "text/plain": [
       "array([-1.54972576, -0.84199275, -0.5761164 , -0.49074487, -0.38786093,\n",
       "        0.91143097])"
      ]
     },
     "execution_count": 14,
     "metadata": {},
     "output_type": "execute_result"
    }
   ],
   "source": [
    "arr"
   ]
  },
  {
   "cell_type": "code",
   "execution_count": 16,
   "metadata": {},
   "outputs": [],
   "source": [
    "#多维数组可以在任何一个轴上排序\n",
    "arr = np.random.randn(5,3)"
   ]
  },
  {
   "cell_type": "code",
   "execution_count": 17,
   "metadata": {},
   "outputs": [
    {
     "data": {
      "text/plain": [
       "array([[-0.35661678, -0.34758836,  0.66422816],\n",
       "       [ 3.29731767,  0.19215083, -0.90647173],\n",
       "       [-0.49197781, -0.77976377,  1.10502154],\n",
       "       [ 1.17511275, -2.01053884,  1.82101   ],\n",
       "       [-0.63419679,  1.4214399 ,  0.63387541]])"
      ]
     },
     "execution_count": 17,
     "metadata": {},
     "output_type": "execute_result"
    }
   ],
   "source": [
    "arr"
   ]
  },
  {
   "cell_type": "markdown",
   "metadata": {},
   "source": [
    "![图片](集合方法.png)"
   ]
  },
  {
   "cell_type": "code",
   "execution_count": null,
   "metadata": {},
   "outputs": [],
   "source": [
    "import numpy as np\n",
    "\n",
    "a = np.array([1, 2, 3, 2, 4])\n",
    "b = np.array([3, 4, 5, 6])\n",
    "\n",
    "# 唯一元素 (Unique)\n",
    "# np.unique(a)  => array([1, 2, 3, 4])\n",
    "\n",
    "# 交集 (Intersection)\n",
    "# np.intersect1d(a, b) => array([3, 4])\n",
    "\n",
    "# 差集 (Difference)\n",
    "# np.setdiff1d(a, b) => array([1, 2])\n",
    "\n",
    "# 并集 (Union)\n",
    "# np.union1d(a, b) => array([1, 2, 3, 4, 5, 6])\n",
    "\n",
    "# 成员关系测试 (Membership Test)\n",
    "# np.in1d(a, b) => array([False, False, True, False, True], dtype=bool)"
   ]
  },
  {
   "cell_type": "markdown",
   "metadata": {},
   "source": [
    "![图片](%E6%96%87%E4%BB%B6%E8%BE%93%E5%85%A5%E8%BE%93%E5%87%BA.png)"
   ]
  },
  {
   "cell_type": "code",
   "execution_count": null,
   "metadata": {},
   "outputs": [],
   "source": [
    "import numpy as np\n",
    "data = np.arange(10)\n",
    "\n",
    "# 存储单个数组\n",
    "#np.save('my_array.npy', data) \n",
    "\n",
    "# 存储多个数组\n",
    "#np.savez('multiple_arrays.npz', a=data, b=data*2)\n",
    "\n",
    "# 加载数据\n",
    "#loaded_data = np.load('my_array.npy')\n",
    "#loaded_npz = np.load('multiple_arrays.npz')\n",
    "\n",
    "# 访问 npz 文件中的数组：\n",
    "# array_b = loaded_npz['b']"
   ]
  },
  {
   "cell_type": "markdown",
   "metadata": {},
   "source": [
    " NumPy 伪随机数生成（numpy.random）\n",
    "从 NumPy 1.17 版本开始，官方推荐使用 Generator 机制，它比旧的基于全局状态的函数（如 np.random.rand(), np.random.randint()）更加灵活和安全。\n",
    "\n",
    "1. 推荐机制：Generator（生成器）\n",
    "生成器机制的核心是 Generator 对象，它通过一个称为 BitGenerator 的对象来管理随机数的状态。\n",
    "\n",
    "步骤一：初始化 BitGenerator\n",
    "最常用的是 PCG64 (Permuted Congruential Generator)，它通常被认为是比旧的 MT19937（Mersenne Twister）更好的随机数生成算法。\n",
    "\n",
    "Python\n",
    "\n",
    "import numpy as np\n",
    "rng = np.random.default_rng(seed=None) \n",
    "或者指定一个种子：\n",
    "rng = np.random.default_rng(seed=42) \n",
    "步骤二：使用 Generator 对象生成随机数\n",
    "一旦有了 rng 对象，就可以用它来生成各种类型的随机数。\n",
    "\n",
    "方法\t描述\t示例\n",
    "rng.random(size)\t生成浮点数（0.0 到 1.0 之间，左闭右开）。\trng.random(size=(2, 3))\n",
    "rng.integers(low, high, size)\t生成整数（low 到 high 之间，high 不包含）。\trng.integers(1, 10, size=5)\n",
    "rng.normal(loc, scale, size)\t生成正态分布（高斯分布）的随机数。loc 是均值，scale 是标准差。\trng.normal(0, 1, size=10)\n",
    "rng.uniform(low, high, size)\t生成均匀分布的浮点数。\trng.uniform(5, 10, size=5)\n",
    "rng.choice(a, size, replace, p)\t从一个给定数组 a 中进行随机抽样。replace=True 表示有放回抽样。\trng.choice(['A', 'B', 'C'], 5)\n",
    "rng.shuffle(x)\t就地（In-place）打乱一个数组的顺序。\trng.shuffle(arr)\n",
    "\n",
    "\n",
    "2. 保证可重现性（设置种子 Seed）\n",
    "伪随机数 是通过一个确定的初始值（称为种子 seed）生成的确定性序列。如果需要保证每次运行程序时生成的随机数序列完全相同，就必须设置相同的种子。\n",
    "\n",
    "使用 Generator 机制设置种子：\n",
    "\n",
    "Python\n",
    "\n",
    "rng = np.random.default_rng(seed=12345) \n",
    "每次使用 12345 这个种子，后续生成的随机数序列都将相同。\n",
    "这是推荐的做法，它将随机数生成状态隔离在 rng 对象中。\n",
    "\n",
    "3. 旧版/全局方法（不推荐，但常见）\n",
    "在旧代码中，你可能会看到直接调用 numpy.random 命名空间下的函数。这些函数使用一个全局状态的随机数生成器。\n",
    "\n",
    "设置全局种子： np.random.seed(12345)\n",
    "\n",
    "直接调用： np.random.randn(5)（生成正态分布）\n",
    "\n",
    "注意： 这种全局方法容易造成状态混乱，尤其是在多线程环境中，因此应优先使用新的 Generator 机制。"
   ]
  },
  {
   "cell_type": "markdown",
   "metadata": {},
   "source": []
  },
  {
   "cell_type": "markdown",
   "metadata": {},
   "source": [
    "示例随机漫步"
   ]
  },
  {
   "cell_type": "code",
   "execution_count": 19,
   "metadata": {},
   "outputs": [],
   "source": [
    "import random\n",
    "position = 0\n",
    "walk = [position]\n",
    "steps = 1000\n",
    "for i in range(steps):\n",
    "    step = 1 if random.randint(0,1) else -1\n",
    "    position += step\n",
    "    walk.append(position)"
   ]
  },
  {
   "cell_type": "code",
   "execution_count": 20,
   "metadata": {},
   "outputs": [
    {
     "ename": "NameError",
     "evalue": "name 'plt' is not defined",
     "output_type": "error",
     "traceback": [
      "\u001b[1;31m---------------------------------------------------------------------------\u001b[0m",
      "\u001b[1;31mNameError\u001b[0m                                 Traceback (most recent call last)",
      "Cell \u001b[1;32mIn[20], line 1\u001b[0m\n\u001b[1;32m----> 1\u001b[0m plt\u001b[38;5;241m.\u001b[39mplot(walk[:\u001b[38;5;241m100\u001b[39m])\n",
      "\u001b[1;31mNameError\u001b[0m: name 'plt' is not defined"
     ]
    }
   ],
   "source": [
    "plt.plot(walk[:100])"
   ]
  },
  {
   "cell_type": "code",
   "execution_count": 23,
   "metadata": {},
   "outputs": [
    {
     "ename": "AttributeError",
     "evalue": "'list' object has no attribute 'min'",
     "output_type": "error",
     "traceback": [
      "\u001b[1;31m---------------------------------------------------------------------------\u001b[0m",
      "\u001b[1;31mAttributeError\u001b[0m                            Traceback (most recent call last)",
      "Cell \u001b[1;32mIn[23], line 1\u001b[0m\n\u001b[1;32m----> 1\u001b[0m walk\u001b[38;5;241m.\u001b[39mmin()\n",
      "\u001b[1;31mAttributeError\u001b[0m: 'list' object has no attribute 'min'"
     ]
    }
   ],
   "source": [
    "walk.min()"
   ]
  }
 ],
 "metadata": {
  "kernelspec": {
   "display_name": "Python 3.13.5 ('base')",
   "language": "python",
   "name": "python3"
  },
  "language_info": {
   "codemirror_mode": {
    "name": "ipython",
    "version": 3
   },
   "file_extension": ".py",
   "mimetype": "text/x-python",
   "name": "python",
   "nbconvert_exporter": "python",
   "pygments_lexer": "ipython3",
   "version": "3.13.5"
  },
  "orig_nbformat": 4,
  "vscode": {
   "interpreter": {
    "hash": "bb3ab1c869250a006548da3f3948134c613d99ece87200a41ef05fe751948255"
   }
  }
 },
 "nbformat": 4,
 "nbformat_minor": 2
}
