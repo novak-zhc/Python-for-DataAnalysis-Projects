{
 "cells": [
  {
   "cell_type": "markdown",
   "metadata": {},
   "source": [
    "4.1 NumPy的ndarry，一种多维数组对象"
   ]
  },
  {
   "cell_type": "code",
   "execution_count": 19,
   "metadata": {},
   "outputs": [],
   "source": [
    "import numpy as np\n",
    "#有些库的函数名可能与 NumPy 的函数名相同\n",
    "#.randn()：这是 np.random 模块中的一个核心函数。功能：它从标准正态分布"
   ]
  },
  {
   "cell_type": "code",
   "execution_count": 20,
   "metadata": {},
   "outputs": [
    {
     "data": {
      "text/plain": [
       "array([[ 1.17738537,  2.46741925, -0.35129898],\n",
       "       [ 0.17862241,  1.54627748,  0.44509762]])"
      ]
     },
     "execution_count": 20,
     "metadata": {},
     "output_type": "execute_result"
    }
   ],
   "source": [
    "data = np.random.randn(2,3)\n",
    "data"
   ]
  },
  {
   "cell_type": "markdown",
   "metadata": {},
   "source": [
    "数学运算"
   ]
  },
  {
   "cell_type": "code",
   "execution_count": 21,
   "metadata": {},
   "outputs": [
    {
     "data": {
      "text/plain": [
       "array([[11.77385365, 24.67419254, -3.51298983],\n",
       "       [ 1.78622413, 15.46277484,  4.4509762 ]])"
      ]
     },
     "execution_count": 21,
     "metadata": {},
     "output_type": "execute_result"
    }
   ],
   "source": [
    "data * 10"
   ]
  },
  {
   "cell_type": "code",
   "execution_count": 22,
   "metadata": {},
   "outputs": [
    {
     "data": {
      "text/plain": [
       "array([[ 2.35477073,  4.93483851, -0.70259797],\n",
       "       [ 0.35724483,  3.09255497,  0.89019524]])"
      ]
     },
     "execution_count": 22,
     "metadata": {},
     "output_type": "execute_result"
    }
   ],
   "source": [
    "data + data"
   ]
  },
  {
   "cell_type": "code",
   "execution_count": 23,
   "metadata": {},
   "outputs": [
    {
     "data": {
      "text/plain": [
       "(2, 3)"
      ]
     },
     "execution_count": 23,
     "metadata": {},
     "output_type": "execute_result"
    }
   ],
   "source": [
    "data.shape #shape告诉我们数组的结构"
   ]
  },
  {
   "cell_type": "code",
   "execution_count": 24,
   "metadata": {},
   "outputs": [
    {
     "data": {
      "text/plain": [
       "dtype('float64')"
      ]
     },
     "execution_count": 24,
     "metadata": {},
     "output_type": "execute_result"
    }
   ],
   "source": [
    "data.dtype #dtype告诉我们数组里面元素的数据类型"
   ]
  },
  {
   "cell_type": "markdown",
   "metadata": {},
   "source": [
    "创建ndarray，使用array函数。np.array() 是 NumPy 库中最常用、最核心的函数之一。它的主要作用是：\n",
    "\n",
    "将 Python 中的列表 (list)、元组 (tuple) 或任何序列数据，转换成 NumPy 的多维数组 (ndarray)。"
   ]
  },
  {
   "cell_type": "code",
   "execution_count": 25,
   "metadata": {},
   "outputs": [
    {
     "data": {
      "text/plain": [
       "array([6. , 7.5, 8. , 0. , 1. ])"
      ]
     },
     "execution_count": 25,
     "metadata": {},
     "output_type": "execute_result"
    }
   ],
   "source": [
    "data1 = [6,7.5,8,0,1]\n",
    "arr1 = np.array(data1)\n",
    "arr1"
   ]
  },
  {
   "cell_type": "markdown",
   "metadata": {},
   "source": [
    "🧐 核心原因：数据类型向上兼容\n",
    "当您使用 np.array() 创建数组时，NumPy 必须确保数组中的所有元素都具有相同的单一数据类型。\n",
    "\n",
    "输入列表分析： 您的 data1 = [6, 7.5, 8, 0, 1] 包含：\n",
    "\n",
    "整数：6、8、0、1\n",
    "\n",
    "浮点数： 7.5\n",
    "\n",
    "NumPy 的处理：\n",
    "\n",
    "NumPy 发现列表中同时有整数和浮点数。\n",
    "\n",
    "由于浮点数（例如 7.5）比整数（例如 6）具有更高的精度和更广的表示范围，NumPy 必须将所有元素都转换成能容纳最高精度的那个类型。\n",
    "\n",
    "整数可以完美地表示为浮点数（例如 6 变成 6.0），但浮点数无法在不损失精度的情况下表示为整数（例如 7.5 变成 7 就会丢失 .5）。\n",
    "\n",
    "结果： 为了避免数据丢失，NumPy 将整个数组的 数据类型 (dtype) 向上兼容，统一提升为 浮点数类型。\n",
    "\n",
    "因此，输出的 arr1 变成了 [6.0, 7.5, 8.0, 0.0, 1.0]，并且其 dtype 为 float64 (64位浮点数)。"
   ]
  },
  {
   "cell_type": "code",
   "execution_count": 26,
   "metadata": {},
   "outputs": [],
   "source": [
    "#嵌套序列（比如一组等长的列表组成的列表）将会变成一个多维数组"
   ]
  },
  {
   "cell_type": "code",
   "execution_count": 27,
   "metadata": {},
   "outputs": [
    {
     "data": {
      "text/plain": [
       "array([[1, 2, 3, 4],\n",
       "       [5, 6, 7, 8]])"
      ]
     },
     "execution_count": 27,
     "metadata": {},
     "output_type": "execute_result"
    }
   ],
   "source": [
    "data2 = [[1,2,3,4],[5,6,7,8]]\n",
    "arr2 = np.array(data2)\n",
    "arr2"
   ]
  },
  {
   "cell_type": "code",
   "execution_count": 28,
   "metadata": {},
   "outputs": [
    {
     "data": {
      "text/plain": [
       "2"
      ]
     },
     "execution_count": 28,
     "metadata": {},
     "output_type": "execute_result"
    }
   ],
   "source": [
    "arr2.ndim\n",
    "#矩阵的维度"
   ]
  },
  {
   "cell_type": "markdown",
   "metadata": {},
   "source": [
    "![维度举例](维度解释.png)\n",
    "\n",
    "就是 NumPy 告诉 “沿着哪个方向进行计算” 的关键指令"
   ]
  },
  {
   "cell_type": "code",
   "execution_count": 29,
   "metadata": {},
   "outputs": [
    {
     "data": {
      "text/plain": [
       "(2, 4)"
      ]
     },
     "execution_count": 29,
     "metadata": {},
     "output_type": "execute_result"
    }
   ],
   "source": [
    "arr2.shape\n",
    "#shape显示元组中的每个数字都精确地告诉您该维度（轴）上有多少元素"
   ]
  },
  {
   "cell_type": "code",
   "execution_count": 30,
   "metadata": {},
   "outputs": [
    {
     "data": {
      "text/plain": [
       "dtype('float64')"
      ]
     },
     "execution_count": 30,
     "metadata": {},
     "output_type": "execute_result"
    }
   ],
   "source": [
    "arr1.dtype"
   ]
  },
  {
   "cell_type": "code",
   "execution_count": 31,
   "metadata": {},
   "outputs": [
    {
     "data": {
      "text/plain": [
       "dtype('int64')"
      ]
     },
     "execution_count": 31,
     "metadata": {},
     "output_type": "execute_result"
    }
   ],
   "source": [
    "arr2.dtype"
   ]
  },
  {
   "cell_type": "code",
   "execution_count": 32,
   "metadata": {},
   "outputs": [
    {
     "data": {
      "text/plain": [
       "array([0., 0., 0., 0., 0., 0., 0., 0., 0., 0.])"
      ]
     },
     "execution_count": 32,
     "metadata": {},
     "output_type": "execute_result"
    }
   ],
   "source": [
    "np.zeros(10) #ones是创建全1的数组"
   ]
  },
  {
   "cell_type": "code",
   "execution_count": 33,
   "metadata": {},
   "outputs": [
    {
     "data": {
      "text/plain": [
       "array([[[1.54871229e-311, 2.47032823e-322],\n",
       "        [0.00000000e+000, 0.00000000e+000],\n",
       "        [1.06811422e-306, 3.69776220e-062]],\n",
       "\n",
       "       [[4.22470811e-090, 1.33621712e+165],\n",
       "        [1.53430554e-052, 5.54915850e+170],\n",
       "        [3.99910963e+252, 2.00298098e-076]]])"
      ]
     },
     "execution_count": 33,
     "metadata": {},
     "output_type": "execute_result"
    }
   ],
   "source": [
    "np.empty((2,3,2))\n",
    "#很多情况下np.empty会返回很多未初始化的垃圾值"
   ]
  },
  {
   "cell_type": "code",
   "execution_count": 34,
   "metadata": {},
   "outputs": [
    {
     "data": {
      "text/plain": [
       "array([ 0,  1,  2,  3,  4,  5,  6,  7,  8,  9, 10, 11, 12, 13, 14])"
      ]
     },
     "execution_count": 34,
     "metadata": {},
     "output_type": "execute_result"
    }
   ],
   "source": [
    "#arrange是python内置range的数组版\n",
    "np.arange(15)"
   ]
  },
  {
   "cell_type": "markdown",
   "metadata": {},
   "source": [
    "dtype 在 NumPy 中是 Data Type（数据类型）的缩写，它是 NumPy 数组 (ndarray) 中 最核心的属性之一。\n",
    "\n",
    "💡 dtype 的核心含义\n",
    "dtype 描述了数组中 每个元素 所占用的内存大小和数据种类。\n",
    "\n",
    "简单来说，dtype 就是告诉 NumPy：“这个数组中的所有值都是什么类型的数据，以及它们应该在内存中占用多少空间。”\n",
    "\n",
    "1. 它是统一的（Homogeneous）\n",
    "这是 dtype 与 Python 列表最本质的区别：\n",
    "\n",
    "NumPy 数组： 数组中所有元素的 dtype 必须是相同的（例如，全部是 64 位整数，或全部是 32 位浮点数）。这是 NumPy 能够进行高效矢量化计算的基础。\n",
    "\n",
    "Python 列表： 列表可以存储混合类型（例如，一个整数、一个字符串、一个浮点数）。\n",
    "\n",
    "2. 它是内存效率的关键\n",
    "dtype 允许您精确控制数据占用的内存。例如：\n",
    "\n",
    "如果您的数据都是 0 到 255 之间的整数（例如图像的像素值），您可以使用 np.uint8（8 位无符号整数）。\n",
    "\n",
    "相比默认的 np.int64（64 位整数），使用 np.uint8 可以节省 8 倍 的内存空间。\n",
    "astype() 是 NumPy 数组 (ndarray) 中一个非常重要的 方法，它的作用是：\n",
    "\n",
    "强制转换数组中所有元素的数据类型（dtype）。\n",
    "\n",
    "💡 astype() 的核心作用\n",
    "当您需要将数组中的数据从一种类型（例如浮点数 float64）精确地转换成另一种类型（例如整数 int32 或布尔值 bool）时，就需要用到 astype()。\n",
    "\n",
    "语法\n",
    "Python\n",
    "\n",
    "new_array = arr.astype(dtype, copy=True)\n",
    "dtype (必需)： 您希望数组转换成的目标数据类型，可以是 NumPy 的 dtype 对象（如 np.int32）或 Python 的类型（如 int）。\n",
    "\n",
    "1. 降级/升级数据类型\n",
    "您可以利用 astype() 来优化内存使用或确保计算精度。\n"
   ]
  },
  {
   "cell_type": "code",
   "execution_count": null,
   "metadata": {},
   "outputs": [],
   "source": [
    "import numpy as np\n",
    "\n",
    "# 原始数组是浮点数 dtype=float64\n",
    "arr_float = np.array([1.2, 5.8, 9.1, 0.5]) \n",
    "print(arr_float) \n",
    "# 输出: [1.2 5.8 9.1 0.5]\n",
    "\n",
    "# 强制转换成整数 (astype(int) 或 astype(np.int32))\n",
    "arr_int = arr_float.astype(int) \n",
    "\n",
    "print(arr_int)\n",
    "# 输出: [1 5 9 0] \n",
    "# 注意：浮点数的小数点部分被直接截断（不是四舍五入）"
   ]
  },
  {
   "cell_type": "code",
   "execution_count": 16,
   "metadata": {},
   "outputs": [],
   "source": [
    "arr1 = np.array([1,2,3],dtype=np.float64)\n",
    "arr2 = np.array([1,2,3],dtype=np.int32)"
   ]
  },
  {
   "cell_type": "code",
   "execution_count": 17,
   "metadata": {},
   "outputs": [
    {
     "data": {
      "text/plain": [
       "dtype('float64')"
      ]
     },
     "execution_count": 17,
     "metadata": {},
     "output_type": "execute_result"
    }
   ],
   "source": [
    "arr1.dtype"
   ]
  },
  {
   "cell_type": "code",
   "execution_count": 35,
   "metadata": {},
   "outputs": [
    {
     "data": {
      "text/plain": [
       "dtype('int64')"
      ]
     },
     "execution_count": 35,
     "metadata": {},
     "output_type": "execute_result"
    }
   ],
   "source": [
    "arr2.dtype"
   ]
  },
  {
   "cell_type": "markdown",
   "metadata": {},
   "source": []
  }
 ],
 "metadata": {
  "kernelspec": {
   "display_name": "Python 3.13.5 ('base')",
   "language": "python",
   "name": "python3"
  },
  "language_info": {
   "codemirror_mode": {
    "name": "ipython",
    "version": 3
   },
   "file_extension": ".py",
   "mimetype": "text/x-python",
   "name": "python",
   "nbconvert_exporter": "python",
   "pygments_lexer": "ipython3",
   "version": "3.13.5"
  },
  "orig_nbformat": 4,
  "vscode": {
   "interpreter": {
    "hash": "bb3ab1c869250a006548da3f3948134c613d99ece87200a41ef05fe751948255"
   }
  }
 },
 "nbformat": 4,
 "nbformat_minor": 2
}
