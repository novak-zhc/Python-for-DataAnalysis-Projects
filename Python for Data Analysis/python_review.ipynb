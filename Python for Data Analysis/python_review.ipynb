{
 "cells": [
  {
   "cell_type": "code",
   "execution_count": 6,
   "metadata": {},
   "outputs": [
    {
     "name": "stdout",
     "output_type": "stream",
     "text": [
      "Hello,world\n"
     ]
    }
   ],
   "source": [
    "print('Hello,world')"
   ]
  },
  {
   "cell_type": "markdown",
   "metadata": {},
   "source": [
    "python的补全,按tab键，vscode中安装插件后自动补全。"
   ]
  },
  {
   "cell_type": "code",
   "execution_count": 2,
   "metadata": {},
   "outputs": [],
   "source": [
    "an_apple = 27"
   ]
  },
  {
   "cell_type": "code",
   "execution_count": 3,
   "metadata": {},
   "outputs": [],
   "source": [
    "an_example = 42"
   ]
  },
  {
   "cell_type": "code",
   "execution_count": 5,
   "metadata": {},
   "outputs": [],
   "source": [
    "b = [1,2,3]"
   ]
  },
  {
   "cell_type": "markdown",
   "metadata": {},
   "source": [
    "自省，按问号显示对象的信息"
   ]
  },
  {
   "cell_type": "code",
   "execution_count": 7,
   "metadata": {},
   "outputs": [],
   "source": [
    "b = [1,2,3]"
   ]
  },
  {
   "cell_type": "code",
   "execution_count": 8,
   "metadata": {},
   "outputs": [
    {
     "name": "stdout",
     "output_type": "stream",
     "text": [
      "\u001b[1;31mType:\u001b[0m        list\n",
      "\u001b[1;31mString form:\u001b[0m [1, 2, 3]\n",
      "\u001b[1;31mLength:\u001b[0m      3\n",
      "\u001b[1;31mDocstring:\u001b[0m  \n",
      "Built-in mutable sequence.\n",
      "\n",
      "If no argument is given, the constructor creates a new empty list.\n",
      "The argument must be an iterable if specified."
     ]
    }
   ],
   "source": [
    "b?"
   ]
  },
  {
   "cell_type": "markdown",
   "metadata": {},
   "source": [
    "python的赋值是引用"
   ]
  },
  {
   "cell_type": "markdown",
   "metadata": {},
   "source": [
    "isintance可以检查对象是某个类型\n"
   ]
  },
  {
   "cell_type": "code",
   "execution_count": 9,
   "metadata": {},
   "outputs": [],
   "source": [
    "a = 5"
   ]
  },
  {
   "cell_type": "code",
   "execution_count": 10,
   "metadata": {},
   "outputs": [
    {
     "data": {
      "text/plain": [
       "True"
      ]
     },
     "execution_count": 10,
     "metadata": {},
     "output_type": "execute_result"
    }
   ],
   "source": [
    "isinstance(a,int)"
   ]
  },
  {
   "cell_type": "markdown",
   "metadata": {},
   "source": [
    "鸭子类型鸭子类型的核心思想是：\n",
    "\n",
    "“如果它走起来像鸭子，叫起来像鸭子，那么它就是一只鸭子。”\n",
    "\n",
    "在 Python 中，这意味着一个对象是否能被当作某种类型（或实现某个接口），并不取决于它继承了哪个类，也不取决于它实现了哪些正式的接口。它只取决于它是否具有执行特定操作所需要的方法和属性。\n",
    "\n",
    "简单来说，关注行为（方法），而不是类型（类）。\n",
    "\n",
    "实际应用：\n",
    "假设你有一个函数需要迭代一个集合中的所有元素。鸭子类型要求这个函数：\n",
    "\n",
    "不关心你传入的是 list、tuple、set，还是你自定义的 MyContainer 类。\n",
    "\n",
    "只关心你传入的对象是否定义了迭代所需要的魔术方法（如 __iter__ 或 __getitem__）。\n",
    "\n",
    "只要这个对象具有这些“鸭子行为”（即所需的方法），Python 就会允许它通过，并像处理真正的鸭子（预期的类型）一样处理它。"
   ]
  },
  {
   "cell_type": "code",
   "execution_count": 11,
   "metadata": {},
   "outputs": [
    {
     "name": "stdout",
     "output_type": "stream",
     "text": [
      "Woof!\n",
      "Meow!\n",
      "这个对象不能说话！\n"
     ]
    }
   ],
   "source": [
    "class Dog:\n",
    "    def speak(self):\n",
    "        return \"Woof!\"\n",
    "\n",
    "class Cat:\n",
    "    def speak(self):\n",
    "        return \"Meow!\"\n",
    "    \n",
    "class Stone:\n",
    "    pass\n",
    "\n",
    "def make_it_speak(animal):\n",
    "    # Python 不关心 animal 是 Dog 还是 Cat\n",
    "    # 它只关心 animal 是否有一个名为 'speak' 的方法\n",
    "    try:\n",
    "        print(animal.speak())\n",
    "    except AttributeError:\n",
    "        print(\"这个对象不能说话！\")\n",
    "\n",
    "dog = Dog()\n",
    "cat = Cat()\n",
    "stone = Stone()\n",
    "\n",
    "make_it_speak(dog)    # 输出: Woof!\n",
    "make_it_speak(cat)    # 输出: Meow!\n",
    "make_it_speak(stone)  # 输出: 这个对象不能说话！"
   ]
  },
  {
   "cell_type": "markdown",
   "metadata": {},
   "source": [
    "Python 中有多种格式化字符串（String Formatting） 的方法，每种方法都有其适用场景和优缺点。目前，f-string 是最推荐和最现代的方法。\n",
    "\n",
    "1. f-string（格式化字符串字面量）\n",
    "这是 Python 3.6 及更高版本中最推荐、最常用、最简洁、且速度最快的方法。\n",
    "\n",
    "原理： 在字符串前加一个字母 f 或 F，然后在字符串内部用大括号 {} 包含变量名或表达式。"
   ]
  },
  {
   "cell_type": "code",
   "execution_count": null,
   "metadata": {},
   "outputs": [],
   "source": [
    "name = \"小明\"\n",
    "age = 25\n",
    "price = 12.3456\n",
    "\n",
    "# 基本用法\n",
    "message = f\"我的名字是 {name}，今年 {age} 岁。\" \n",
    "print(message) \n",
    "# 输出: 我的名字是 小明，今年 25 岁。\n",
    "\n",
    "# 格式控制（四舍五入到小数点后两位）\n",
    "cost = f\"商品价格是 ${price:.2f}\"\n",
    "print(cost)\n",
    "# 输出: 商品价格是 $12.35\n",
    "\n",
    "# 在括号内执行表达式\n",
    "calc = f\"明年的年龄是 {age + 1} 岁。\"\n",
    "print(calc)\n",
    "# 输出: 明年的年龄是 26 岁。"
   ]
  },
  {
   "cell_type": "markdown",
   "metadata": {},
   "source": [
    "2. str.format() 方法\n",
    "这是在 f-string 出现之前（Python 2.6 引入）的标准方法。它比旧式的 % 格式化更灵活。\n",
    "\n",
    "原理： 在字符串中使用大括号 {} 作为占位符，然后调用字符串的 format() 方法并传入要替换的值。"
   ]
  },
  {
   "cell_type": "code",
   "execution_count": null,
   "metadata": {},
   "outputs": [],
   "source": [
    "name = \"小红\"\n",
    "age = 22\n",
    "\n",
    "# 方式一：不指定位置（按顺序填充）\n",
    "message = \"我的名字是 {}，今年 {} 岁。\".format(name, age)\n",
    "\n",
    "# 方式二：通过索引指定位置\n",
    "message = \"我的名字是 {0}，今年 {1} 岁。\".format(name, age)\n",
    "\n",
    "# 方式三：通过键名指定（更清晰）\n",
    "message = \"我的名字是 {n}，今年 {a} 岁。\".format(n=name, a=age)\n",
    "\n",
    "print(message)\n",
    "# 输出: 我的名字是 小红，今年 22 岁。"
   ]
  },
  {
   "cell_type": "markdown",
   "metadata": {},
   "source": [
    "Python 中的集合（Set） 是一种非常有用且独特的数据结构，它具有以下两个核心特点：\n",
    "\n",
    "元素不重复： 集合中的每一个元素都是唯一的，重复的元素会被自动过滤掉。\n",
    "\n",
    "元素无序： 集合中的元素没有固定的顺序或索引位置。\n",
    "\n",
    "集合是基于数学中的集合概念设计的，因此它非常适合用于执行数学集合操作（如并集、交集、差集）和快速地成员资格测试。"
   ]
  },
  {
   "cell_type": "code",
   "execution_count": 12,
   "metadata": {},
   "outputs": [
    {
     "data": {
      "text/plain": [
       "{1, 2, 3}"
      ]
     },
     "execution_count": 12,
     "metadata": {},
     "output_type": "execute_result"
    }
   ],
   "source": [
    "set([2,2,3,1,3,3])"
   ]
  },
  {
   "cell_type": "code",
   "execution_count": 14,
   "metadata": {},
   "outputs": [],
   "source": [
    "a = {1,2,3,4,5}\n",
    "b = {3,4,5,6,7,8}"
   ]
  },
  {
   "cell_type": "markdown",
   "metadata": {},
   "source": [
    "支持合并，交集等数学集合运算"
   ]
  },
  {
   "cell_type": "code",
   "execution_count": 15,
   "metadata": {},
   "outputs": [
    {
     "data": {
      "text/plain": [
       "{1, 2, 3, 4, 5, 6, 7, 8}"
      ]
     },
     "execution_count": 15,
     "metadata": {},
     "output_type": "execute_result"
    }
   ],
   "source": [
    "a.union(b)"
   ]
  },
  {
   "cell_type": "markdown",
   "metadata": {},
   "source": [
    "交际包含在两个集合中，用intersection或&运算符"
   ]
  },
  {
   "cell_type": "code",
   "execution_count": 16,
   "metadata": {},
   "outputs": [
    {
     "data": {
      "text/plain": [
       "{3, 4, 5}"
      ]
     },
     "execution_count": 16,
     "metadata": {},
     "output_type": "execute_result"
    }
   ],
   "source": [
    "a.intersection(b)"
   ]
  },
  {
   "cell_type": "code",
   "execution_count": 17,
   "metadata": {},
   "outputs": [
    {
     "data": {
      "text/plain": [
       "{3, 4, 5}"
      ]
     },
     "execution_count": 17,
     "metadata": {},
     "output_type": "execute_result"
    }
   ],
   "source": [
    "a&b"
   ]
  }
 ],
 "metadata": {
  "kernelspec": {
   "display_name": "Python 3.13.5 ('base')",
   "language": "python",
   "name": "python3"
  },
  "language_info": {
   "codemirror_mode": {
    "name": "ipython",
    "version": 3
   },
   "file_extension": ".py",
   "mimetype": "text/x-python",
   "name": "python",
   "nbconvert_exporter": "python",
   "pygments_lexer": "ipython3",
   "version": "3.13.5"
  },
  "orig_nbformat": 4,
  "vscode": {
   "interpreter": {
    "hash": "bb3ab1c869250a006548da3f3948134c613d99ece87200a41ef05fe751948255"
   }
  }
 },
 "nbformat": 4,
 "nbformat_minor": 2
}
