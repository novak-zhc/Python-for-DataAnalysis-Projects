{
 "cells": [
  {
   "cell_type": "code",
   "execution_count": 6,
   "metadata": {},
   "outputs": [
    {
     "name": "stdout",
     "output_type": "stream",
     "text": [
      "Hello,world\n"
     ]
    }
   ],
   "source": [
    "print('Hello,world')"
   ]
  },
  {
   "cell_type": "markdown",
   "metadata": {},
   "source": [
    "python的补全,按tab键，vscode中安装插件后自动补全。"
   ]
  },
  {
   "cell_type": "code",
   "execution_count": 2,
   "metadata": {},
   "outputs": [],
   "source": [
    "an_apple = 27"
   ]
  },
  {
   "cell_type": "code",
   "execution_count": 3,
   "metadata": {},
   "outputs": [],
   "source": [
    "an_example = 42"
   ]
  },
  {
   "cell_type": "code",
   "execution_count": 5,
   "metadata": {},
   "outputs": [],
   "source": [
    "b = [1,2,3]"
   ]
  },
  {
   "cell_type": "markdown",
   "metadata": {},
   "source": [
    "自省，按问号显示对象的信息"
   ]
  },
  {
   "cell_type": "code",
   "execution_count": 7,
   "metadata": {},
   "outputs": [],
   "source": [
    "b = [1,2,3]"
   ]
  },
  {
   "cell_type": "code",
   "execution_count": 8,
   "metadata": {},
   "outputs": [
    {
     "name": "stdout",
     "output_type": "stream",
     "text": [
      "\u001b[1;31mType:\u001b[0m        list\n",
      "\u001b[1;31mString form:\u001b[0m [1, 2, 3]\n",
      "\u001b[1;31mLength:\u001b[0m      3\n",
      "\u001b[1;31mDocstring:\u001b[0m  \n",
      "Built-in mutable sequence.\n",
      "\n",
      "If no argument is given, the constructor creates a new empty list.\n",
      "The argument must be an iterable if specified."
     ]
    }
   ],
   "source": [
    "b?"
   ]
  },
  {
   "cell_type": "markdown",
   "metadata": {},
   "source": [
    "python的赋值是引用"
   ]
  },
  {
   "cell_type": "markdown",
   "metadata": {},
   "source": [
    "isintance可以检查对象是某个类型\n"
   ]
  },
  {
   "cell_type": "code",
   "execution_count": 9,
   "metadata": {},
   "outputs": [],
   "source": [
    "a = 5"
   ]
  },
  {
   "cell_type": "code",
   "execution_count": 10,
   "metadata": {},
   "outputs": [
    {
     "data": {
      "text/plain": [
       "True"
      ]
     },
     "execution_count": 10,
     "metadata": {},
     "output_type": "execute_result"
    }
   ],
   "source": [
    "isinstance(a,int)"
   ]
  },
  {
   "cell_type": "markdown",
   "metadata": {},
   "source": [
    "鸭子类型鸭子类型的核心思想是：\n",
    "\n",
    "“如果它走起来像鸭子，叫起来像鸭子，那么它就是一只鸭子。”\n",
    "\n",
    "在 Python 中，这意味着一个对象是否能被当作某种类型（或实现某个接口），并不取决于它继承了哪个类，也不取决于它实现了哪些正式的接口。它只取决于它是否具有执行特定操作所需要的方法和属性。\n",
    "\n",
    "简单来说，关注行为（方法），而不是类型（类）。\n",
    "\n",
    "实际应用：\n",
    "假设你有一个函数需要迭代一个集合中的所有元素。鸭子类型要求这个函数：\n",
    "\n",
    "不关心你传入的是 list、tuple、set，还是你自定义的 MyContainer 类。\n",
    "\n",
    "只关心你传入的对象是否定义了迭代所需要的魔术方法（如 __iter__ 或 __getitem__）。\n",
    "\n",
    "只要这个对象具有这些“鸭子行为”（即所需的方法），Python 就会允许它通过，并像处理真正的鸭子（预期的类型）一样处理它。"
   ]
  },
  {
   "cell_type": "code",
   "execution_count": 11,
   "metadata": {},
   "outputs": [
    {
     "name": "stdout",
     "output_type": "stream",
     "text": [
      "Woof!\n",
      "Meow!\n",
      "这个对象不能说话！\n"
     ]
    }
   ],
   "source": [
    "class Dog:\n",
    "    def speak(self):\n",
    "        return \"Woof!\"\n",
    "\n",
    "class Cat:\n",
    "    def speak(self):\n",
    "        return \"Meow!\"\n",
    "    \n",
    "class Stone:\n",
    "    pass\n",
    "\n",
    "def make_it_speak(animal):\n",
    "    # Python 不关心 animal 是 Dog 还是 Cat\n",
    "    # 它只关心 animal 是否有一个名为 'speak' 的方法\n",
    "    try:\n",
    "        print(animal.speak())\n",
    "    except AttributeError:\n",
    "        print(\"这个对象不能说话！\")\n",
    "\n",
    "dog = Dog()\n",
    "cat = Cat()\n",
    "stone = Stone()\n",
    "\n",
    "make_it_speak(dog)    # 输出: Woof!\n",
    "make_it_speak(cat)    # 输出: Meow!\n",
    "make_it_speak(stone)  # 输出: 这个对象不能说话！"
   ]
  },
  {
   "cell_type": "markdown",
   "metadata": {},
   "source": [
    "Python 中有多种格式化字符串（String Formatting） 的方法，每种方法都有其适用场景和优缺点。目前，f-string 是最推荐和最现代的方法。\n",
    "\n",
    "1. f-string（格式化字符串字面量）\n",
    "这是 Python 3.6 及更高版本中最推荐、最常用、最简洁、且速度最快的方法。\n",
    "\n",
    "原理： 在字符串前加一个字母 f 或 F，然后在字符串内部用大括号 {} 包含变量名或表达式。"
   ]
  },
  {
   "cell_type": "code",
   "execution_count": null,
   "metadata": {},
   "outputs": [],
   "source": [
    "name = \"小明\"\n",
    "age = 25\n",
    "price = 12.3456\n",
    "\n",
    "# 基本用法\n",
    "message = f\"我的名字是 {name}，今年 {age} 岁。\" \n",
    "print(message) \n",
    "# 输出: 我的名字是 小明，今年 25 岁。\n",
    "\n",
    "# 格式控制（四舍五入到小数点后两位）\n",
    "cost = f\"商品价格是 ${price:.2f}\"\n",
    "print(cost)\n",
    "# 输出: 商品价格是 $12.35\n",
    "\n",
    "# 在括号内执行表达式\n",
    "calc = f\"明年的年龄是 {age + 1} 岁。\"\n",
    "print(calc)\n",
    "# 输出: 明年的年龄是 26 岁。"
   ]
  },
  {
   "cell_type": "markdown",
   "metadata": {},
   "source": [
    "2. str.format() 方法\n",
    "这是在 f-string 出现之前（Python 2.6 引入）的标准方法。它比旧式的 % 格式化更灵活。\n",
    "\n",
    "原理： 在字符串中使用大括号 {} 作为占位符，然后调用字符串的 format() 方法并传入要替换的值。"
   ]
  },
  {
   "cell_type": "code",
   "execution_count": null,
   "metadata": {},
   "outputs": [],
   "source": [
    "name = \"小红\"\n",
    "age = 22\n",
    "\n",
    "# 方式一：不指定位置（按顺序填充）\n",
    "message = \"我的名字是 {}，今年 {} 岁。\".format(name, age)\n",
    "\n",
    "# 方式二：通过索引指定位置\n",
    "message = \"我的名字是 {0}，今年 {1} 岁。\".format(name, age)\n",
    "\n",
    "# 方式三：通过键名指定（更清晰）\n",
    "message = \"我的名字是 {n}，今年 {a} 岁。\".format(n=name, a=age)\n",
    "\n",
    "print(message)\n",
    "# 输出: 我的名字是 小红，今年 22 岁。"
   ]
  },
  {
   "cell_type": "markdown",
   "metadata": {},
   "source": [
    "Python 中的集合（Set） 是一种非常有用且独特的数据结构，它具有以下两个核心特点：\n",
    "\n",
    "元素不重复： 集合中的每一个元素都是唯一的，重复的元素会被自动过滤掉。\n",
    "\n",
    "元素无序： 集合中的元素没有固定的顺序或索引位置。\n",
    "\n",
    "集合是基于数学中的集合概念设计的，因此它非常适合用于执行数学集合操作（如并集、交集、差集）和快速地成员资格测试。"
   ]
  },
  {
   "cell_type": "code",
   "execution_count": 12,
   "metadata": {},
   "outputs": [
    {
     "data": {
      "text/plain": [
       "{1, 2, 3}"
      ]
     },
     "execution_count": 12,
     "metadata": {},
     "output_type": "execute_result"
    }
   ],
   "source": [
    "set([2,2,3,1,3,3])"
   ]
  },
  {
   "cell_type": "code",
   "execution_count": 14,
   "metadata": {},
   "outputs": [],
   "source": [
    "a = {1,2,3,4,5}\n",
    "b = {3,4,5,6,7,8}"
   ]
  },
  {
   "cell_type": "markdown",
   "metadata": {},
   "source": [
    "支持合并，交集等数学集合运算"
   ]
  },
  {
   "cell_type": "code",
   "execution_count": 15,
   "metadata": {},
   "outputs": [
    {
     "data": {
      "text/plain": [
       "{1, 2, 3, 4, 5, 6, 7, 8}"
      ]
     },
     "execution_count": 15,
     "metadata": {},
     "output_type": "execute_result"
    }
   ],
   "source": [
    "a.union(b)"
   ]
  },
  {
   "cell_type": "markdown",
   "metadata": {},
   "source": [
    "交际包含在两个集合中，用intersection或&运算符"
   ]
  },
  {
   "cell_type": "code",
   "execution_count": 16,
   "metadata": {},
   "outputs": [
    {
     "data": {
      "text/plain": [
       "{3, 4, 5}"
      ]
     },
     "execution_count": 16,
     "metadata": {},
     "output_type": "execute_result"
    }
   ],
   "source": [
    "a.intersection(b)"
   ]
  },
  {
   "cell_type": "code",
   "execution_count": 17,
   "metadata": {},
   "outputs": [
    {
     "data": {
      "text/plain": [
       "{3, 4, 5}"
      ]
     },
     "execution_count": 17,
     "metadata": {},
     "output_type": "execute_result"
    }
   ],
   "source": [
    "a&b"
   ]
  },
  {
   "cell_type": "markdown",
   "metadata": {},
   "source": [
    "enumerate() 函数的作用\n",
    "enumerate() 函数用于在遍历（迭代）一个可迭代对象（如列表、元组、字符串、字典等）时，同时获取每个元素的索引（序号）和元素本身的值。\n",
    "\n",
    "简单来说，它将一个可迭代对象转换为一个可同时访问“位置”和“内容”的序列。"
   ]
  },
  {
   "cell_type": "code",
   "execution_count": null,
   "metadata": {},
   "outputs": [],
   "source": [
    "fruits = ['apple', 'banana', 'cherry']\n",
    "\n",
    "# 传统遍历：只能获取值\n",
    "for fruit in fruits:\n",
    "    print(fruit)\n",
    "# 输出：\n",
    "# apple\n",
    "# banana\n",
    "# cherry"
   ]
  },
  {
   "cell_type": "markdown",
   "metadata": {},
   "source": [
    "使用 enumerate() 后，它返回的是一个由 (索引, 值) 组成的元组序列，您可以用两个变量来接收它们："
   ]
  },
  {
   "cell_type": "code",
   "execution_count": null,
   "metadata": {},
   "outputs": [],
   "source": [
    "fruits = ['apple', 'banana', 'cherry']\n",
    "\n",
    "# 使用 enumerate：同时获取索引和值\n",
    "for index, fruit in enumerate(fruits):\n",
    "    print(f\"Index {index}: {fruit}\")\n",
    "# 输出：\n",
    "# Index 0: apple\n",
    "# Index 1: banana\n",
    "# Index 2: cherry"
   ]
  },
  {
   "cell_type": "markdown",
   "metadata": {},
   "source": [
    "🔢 改变起始索引\n",
    "enumerate() 默认从索引 0 开始计数。您可以使用它的可选参数 start 来指定起始索引："
   ]
  },
  {
   "cell_type": "code",
   "execution_count": null,
   "metadata": {},
   "outputs": [],
   "source": [
    "fruits = ['apple', 'banana', 'cherry']\n",
    "\n",
    "# 从索引 1 开始计数\n",
    "for rank, fruit in enumerate(fruits, start=1):\n",
    "    print(f\"Rank {rank}: {fruit}\")\n",
    "# 输出：\n",
    "# Rank 1: apple\n",
    "# Rank 2: banana\n",
    "# Rank 3: cherry"
   ]
  },
  {
   "cell_type": "markdown",
   "metadata": {},
   "source": [
    "enumerate() 函数生成的索引（index）变量必须放在迭代变量（fruit）前面。\n",
    "\n",
    "💡 为什么 index 必须在前面？\n",
    "这不是 enumerate() 函数本身的规定，而是 Python 迭代和解包 的基本语法要求"
   ]
  },
  {
   "cell_type": "markdown",
   "metadata": {},
   "source": [
    "Python 中的 zip() 函数是一个非常有用且常见的内置函数，它的主要作用是将多个可迭代对象（如列表、元组、字符串等）中对应位置的元素打包成一个个的 元组 (tuple)，然后返回一个可迭代的 zip 对象"
   ]
  },
  {
   "cell_type": "markdown",
   "metadata": {},
   "source": [
    "1. 基本用法 (打包对应元素)\n",
    "如果您有两个或更多的列表，zip() 会将它们的第一个元素打包在一起，第二个元素打包在一起，依此类推："
   ]
  },
  {
   "cell_type": "code",
   "execution_count": null,
   "metadata": {},
   "outputs": [],
   "source": [
    "names = ['Alice', 'Bob', 'Charlie']\n",
    "ages = [25, 30, 22]\n",
    "cities = ['New York', 'London', 'Paris']\n",
    "\n",
    "# 使用 zip() 打包\n",
    "zipped_data = zip(names, ages, cities)\n",
    "\n",
    "# 遍历 zip 对象，每次迭代得到一个元组\n",
    "for item in zipped_data:\n",
    "    print(item)\n",
    "\n",
    "# 输出：\n",
    "# ('Alice', 25, 'New York')\n",
    "# ('Bob', 30, 'London')\n",
    "# ('Charlie', 22, 'Paris')"
   ]
  },
  {
   "cell_type": "markdown",
   "metadata": {},
   "source": [
    "将 zip 对象转换为列表或字典\n",
    "zip() 返回的是一个迭代器 (iterator)，通常您需要将其转换为列表或字典才能看到或重复使用数据："
   ]
  },
  {
   "cell_type": "code",
   "execution_count": null,
   "metadata": {},
   "outputs": [],
   "source": [
    "# 转换为列表 (List of Tuples)\n",
    "list_of_data = list(zip(names, ages))\n",
    "# list_of_data 是 [('Alice', 25), ('Bob', 30), ('Charlie', 22)]\n",
    "\n",
    "# 转换为字典 (Dictionary)\n",
    "# 常用场景：将两个列表转换为键值对\n",
    "keys = ['a', 'b', 'c']\n",
    "values = [1, 2, 3]\n",
    "my_dict = dict(zip(keys, values))\n",
    "# my_dict 是 {'a': 1, 'b': 2, 'c': 3}"
   ]
  },
  {
   "cell_type": "markdown",
   "metadata": {},
   "source": [
    "⚠️ 关键特性：长度由最短序列决定\n",
    "zip() 的一个重要特性是，它会停止在最短的那个可迭代对象结束的地方。较长的序列中多余的元素会被忽略。"
   ]
  },
  {
   "cell_type": "code",
   "execution_count": null,
   "metadata": {},
   "outputs": [],
   "source": [
    "list1 = [10, 20, 30]\n",
    "list2 = ['A', 'B']  # 这是最短的列表\n",
    "list3 = [100, 200, 300, 400]\n",
    "\n",
    "# 结果只会包含两个元素，因为 list2 只有两个元素\n",
    "result = list(zip(list1, list2, list3))\n",
    "\n",
    "# result 是 [(10, 'A', 100), (20, 'B', 200)]\n",
    "# list1 的 30 和 list3 的 300, 400 都会被忽略"
   ]
  },
  {
   "cell_type": "markdown",
   "metadata": {},
   "source": [
    "🎯 zip() 的进阶应用：解压 (Unzipping)\n",
    "您可以使用 zip() 配合 Python 的 星号解包 (*) 运算符 来实现反向操作，即“解压”之前打包的数据："
   ]
  },
  {
   "cell_type": "code",
   "execution_count": 1,
   "metadata": {},
   "outputs": [],
   "source": [
    "packed_data = [('Alice', 25), ('Bob', 30), ('Charlie', 22)]\n",
    "\n",
    "# 使用 * 号解包 (Unzip)\n",
    "names, ages = zip(*packed_data)\n",
    "\n",
    "# names 是 ('Alice', 'Bob', 'Charlie')\n",
    "# ages 是 (25, 30, 22)"
   ]
  },
  {
   "cell_type": "markdown",
   "metadata": {},
   "source": [
    "💡 zip 对象 (Zip Object) 是什么？\n",
    "zip 对象本质上是一个 迭代器 (Iterator)。\n",
    "\n",
    "它不是列表： 它不是一个包含所有元组的完整列表。它只是一个“机器”，知道如何根据您传入的序列（names, ages, cities）的规则，在需要时逐个生成对应的元组。\n",
    "\n",
    "惰性生成 (Lazy Evaluation)： 这种方式被称为惰性求值。它不会在创建时立即在内存中生成所有的元组，而是在您开始遍历它（比如使用 for 循环或调用 next()）时，才计算并返回下一个元组。\n",
    "\n",
    "<span style=\"color: red;\">一次性使用：</span> 作为一个迭代器，zip 对象通常只能被遍历或使用一次。一旦您遍历完它，它就“空了”，如果您再次尝试遍历它，它将不会返回任何数据。\n",
    "**所以一般要用列表或者字典接收**\n",
    "\n",
    "为什么要返回一个 zip 对象（迭代器）？\n",
    "Python 采用这种设计是为了 高效地处理大量数据：\n",
    "\n",
    "内存优化： 如果您有数百万个元素，zip() 无需一次性将所有打包后的元组都存储在内存中。\n",
    "\n",
    "速度优化： 当您只需要处理前几个元素时，它不必计算整个序列。"
   ]
  },
  {
   "cell_type": "code",
   "execution_count": null,
   "metadata": {},
   "outputs": [],
   "source": []
  },
  {
   "cell_type": "code",
   "execution_count": null,
   "metadata": {},
   "outputs": [],
   "source": []
  },
  {
   "cell_type": "markdown",
   "metadata": {},
   "source": [
    "Python 中的列表推导式 (List Comprehension) 是一种简洁、高效地创建列表的方式。它允许您用一个紧凑的表达式，基于现有序列（如列表、元组或范围）来构建新列表。\n",
    "\n",
    "它能用一行代码代替多行 for 循环和 append() 操作，使代码更具可读性（更 Pythonic）和执行效率。"
   ]
  },
  {
   "cell_type": "markdown",
   "metadata": {},
   "source": [
    "1. 基础结构：创建新列表\n",
    "最简单的用法是遍历一个序列并对每个元素应用一个操作"
   ]
  },
  {
   "cell_type": "code",
   "execution_count": null,
   "metadata": {},
   "outputs": [],
   "source": [
    "# 目标：创建一个包含 1 到 5 的平方的列表\n",
    "numbers = [1, 2, 3, 4, 5]\n",
    "\n",
    "# 列表推导式\n",
    "squares = [x * x for x in numbers]     #就是把元素具体的赋值表达式在最开始就声明了\n",
    "\n",
    "# 结果：[1, 4, 9, 16, 25]"
   ]
  },
  {
   "cell_type": "code",
   "execution_count": null,
   "metadata": {},
   "outputs": [],
   "source": [
    "#对比传统的for循环\n",
    "squares = []\n",
    "for x in numbers:\n",
    "    squares.append(x * x)"
   ]
  },
  {
   "cell_type": "markdown",
   "metadata": {},
   "source": [
    "2. 结构进阶：添加条件过滤 (if)\n",
    "您可以在 for 循环之后添加一个可选的 if 语句，只对满足条件的元素进行操作并添加到新列表中："
   ]
  },
  {
   "cell_type": "code",
   "execution_count": null,
   "metadata": {},
   "outputs": [],
   "source": [
    "# 目标：只获取 1 到 10 之间的偶数\n",
    "numbers = range(1, 11)\n",
    "\n",
    "# 列表推导式\n",
    "evens = [x for x in numbers if x % 2 == 0]\n",
    "\n",
    "# 结果：[2, 4, 6, 8, 10]"
   ]
  },
  {
   "cell_type": "markdown",
   "metadata": {},
   "source": [
    "3. 结构高级：条件表达式 (三元运算符)\n",
    "如果您需要根据条件对元素进行不同的处理，可以将 if/else 语句放在 表达式 部分（称为三元运算符）："
   ]
  },
  {
   "cell_type": "code",
   "execution_count": null,
   "metadata": {},
   "outputs": [],
   "source": [
    "# 目标：如果是偶数，保持不变；如果是奇数，替换为 0\n",
    "numbers = [1, 2, 3, 4, 5]\n",
    "\n",
    "# 列表推导式\n",
    "modified = [x if x % 2 == 0 else 0 for x in numbers]\n",
    "\n",
    "# 结果：[0, 2, 0, 4, 0]\n",
    "#注意 if/else 的位置： 当包含 else 时，if/else 必须紧跟在 表达式 之后，而不能放在 for 循环之后。"
   ]
  },
  {
   "cell_type": "markdown",
   "metadata": {},
   "source": [
    "4. 嵌套推导式 (处理多维列表)\n",
    "列表推导式可以嵌套，常用于展平多维列表（列表的列表）："
   ]
  },
  {
   "cell_type": "code",
   "execution_count": null,
   "metadata": {},
   "outputs": [],
   "source": [
    "matrix = [[1, 2], [3, 4], [5, 6]]\n",
    "\n",
    "# 目标：将多维列表展平成一维列表\n",
    "flat_list = [num for row in matrix for num in row]\n",
    "\n",
    "# 结果：[1, 2, 3, 4, 5, 6]\n",
    "\n",
    "#可以将其读作：对于 matrix 中的每一个 row，对于 row 中的每一个 num，将 num 加入列表。\n",
    "#列表推导式是 Python 中非常高效的工具，掌握它可以极大地简化代码。"
   ]
  },
  {
   "cell_type": "markdown",
   "metadata": {},
   "source": [
    "💡 lambda 函数的核心特点\n",
    "lambda 函数与常规函数 (def) 的主要区别在于：\n",
    "\n",
    "匿名性： 它没有函数名称。\n",
    "\n",
    "单行表达式： lambda 主体只能是一个表达式，且这个表达式的结果就是函数的返回值。它不能包含多行语句（如 if、for、while、return 等）。\n",
    "\n",
    "简洁性： 专为需要短小、临时函数而设计。"
   ]
  },
  {
   "cell_type": "markdown",
   "metadata": {},
   "source": [
    "1. 基础用法\n",
    "下面是定义一个计算两数之和的 lambda 函数：\n",
    "lambda 参数一，参数二，......:表达式"
   ]
  },
  {
   "cell_type": "code",
   "execution_count": 2,
   "metadata": {},
   "outputs": [
    {
     "name": "stdout",
     "output_type": "stream",
     "text": [
      "8\n"
     ]
    }
   ],
   "source": [
    "# 定义 lambda 函数\n",
    "add = lambda x, y: x + y\n",
    "\n",
    "# 调用函数\n",
    "result = add(5, 3)\n",
    "print(result) # 输出: 8\n",
    "\n",
    "#这与使用 def 定义的常规函数是等效的：\n",
    "def add(x, y):\n",
    "    return x + y"
   ]
  },
  {
   "cell_type": "markdown",
   "metadata": {},
   "source": [
    "2. 作为高阶函数的参数（最常见用法）\n",
    "lambda 函数最常见的用途是作为另一个函数（称为高阶函数，如 map, filter, sorted）的参数，用于执行一次性、简单的逻辑。\n",
    "\n",
    "示例：sorted() 函数\n",
    "假设我们有一个元组列表，我们想根据每个元组的第二个元素进行排序："
   ]
  },
  {
   "cell_type": "code",
   "execution_count": null,
   "metadata": {},
   "outputs": [],
   "source": [
    "data = [(1, 'B'), (3, 'A'), (2, 'C')]\n",
    "\n",
    "# 使用 lambda 函数指定排序的键 (key)\n",
    "# lambda t: t[1] 表示：对于每个元组 t，返回其第二个元素 t[1] 作为排序依据\n",
    "sorted_data = sorted(data, key=lambda t: t[1])\n",
    "\n",
    "print(sorted_data)\n",
    "# 输出: [(3, 'A'), (1, 'B'), (2, 'C')]"
   ]
  },
  {
   "cell_type": "markdown",
   "metadata": {},
   "source": [
    "⚠️ lambda 的局限性\n",
    "只能有一个表达式： 无法包含多行代码或复杂的控制流。\n",
    "\n",
    "不能包含语句： 不能包含 return（返回值就是表达式的结果）、yield、pass 或赋值语句。\n",
    "\n",
    "并非总是最佳选择： 如果逻辑变得稍微复杂，使用 def 定义一个常规的、命名清晰的函数，通常是更好的选择，因为它提供了更高的可读性和可调试性。"
   ]
  },
  {
   "cell_type": "code",
   "execution_count": null,
   "metadata": {},
   "outputs": [],
   "source": []
  },
  {
   "cell_type": "code",
   "execution_count": null,
   "metadata": {},
   "outputs": [],
   "source": []
  },
  {
   "cell_type": "markdown",
   "metadata": {},
   "source": [
    "Python 中的柯里化 (Currying) 是一种将接受多个参数的函数转换为一系列只接受一个参数的函数的技术。\n",
    "为什么要使用柯里化？\n",
    "柯里化的主要优点是：\n",
    "\n",
    "参数复用 (Partial Application)： 它可以创建出预设了部分参数的新函数，实现参数的复用和抽象。\n",
    "\n",
    "延迟计算： 允许您在多个步骤中逐步提供参数。\n",
    "\n",
    "函数组合： 方便将多个柯里化函数链接在一起，用于函数式编程\n",
    "柯里化的核心就是一句话：\n",
    "\n",
    "将一个需要多个参数的函数，拆解成一系列只需要一个参数的函数。\n",
    "\n",
    "它就像一个定制机器，让您可以先锁定一部分参数，然后再提供剩下的参数"
   ]
  },
  {
   "cell_type": "code",
   "execution_count": null,
   "metadata": {},
   "outputs": [],
   "source": [
    "\n",
    "\n",
    "#最简单的例子\n",
    "#假设您有一个传统的 add(x, y) 函数：\n",
    "\n",
    "\n",
    "# 传统函数：一次性需要两个参数\n",
    "def add(x, y):\n",
    "    return x + y\n",
    "\n",
    "# 调用： add(5, 3)  <-- 必须同时给 5 和 3\n",
    "\n",
    "#柯里化的结果\n",
    "#柯里化将它变成了这样：\n",
    "\n",
    "\n",
    "def make_adder(x):      # 1. 只接受 x\n",
    "    def adder(y):       # 2. 返回一个只接受 y 的新函数\n",
    "        return x + y\n",
    "    return adder"
   ]
  },
  {
   "cell_type": "markdown",
   "metadata": {},
   "source": [
    "柯里化的好处（用途）\n",
    "柯里化最大的价值在于创建 “定制化的” 或 “预设参数的” 新函数。\n",
    "\n",
    "定制化： 您可以先锁定第一个参数。\n",
    "\n",
    "Python\n",
    "\n",
    "add_ten = make_adder(10)  # 锁定 x=10。add_ten 现在是一个“加 10”的机器\n",
    "简单调用： 以后您只需要提供剩下的参数。\n",
    "\n",
    "Python\n",
    "\n",
    "print(add_ten(5))    # 输出 15 (10 + 5)\n",
    "print(add_ten(20))   # 输出 30 (10 + 20)\n",
    "总结：\n",
    "\n",
    "柯里化就是让您可以在第一步 记住（预设） 一个参数，然后在第二步 计算 最终结果的技术。\n",
    "\n",
    " 解析 print(add_ten(5))\n",
    "我们回顾一下柯里化函数和您创建 add_ten 的过程：\n",
    "\n",
    "步骤 1: 创建定制函数 (add_ten = make_adder(10))\n",
    "当您执行 add_ten = make_adder(10) 时：\n",
    "\n",
    "外部函数 make_adder 被调用，并接收 x = 10。\n",
    "\n",
    "make_adder 执行到 return adder 这一行。\n",
    "\n",
    "它返回了内部函数 adder，并将这个返回的函数对象赋值给 add_ten。\n",
    "\n",
    "关键点 (闭包)： 尽管 make_adder 已经执行完毕，但返回的 adder 函数对象神奇地 “记住了” 外部函数 make_adder 的本地变量 x = 10。\n",
    "\n",
    "此时，add_ten 就等同于这个定制化的内部函数：\n",
    "\n",
    "\n",
    "\n",
    "def adder(y):\n",
    "    # 它仍然能访问到 make_adder 传进来的 x=10\n",
    "    return 10 + y\n",
    "步骤 2: 调用定制函数 (add_ten(5))\n",
    "当您执行 add_ten(5) 时：\n",
    "\n",
    "您调用的是在步骤 1 中创建的 adder 函数（只是它的名字现在叫 add_ten）。\n",
    "\n",
    "您将 5 作为参数传入，这个 5 被赋给了 adder 函数的参数 y。\n",
    "\n",
    "adder 函数执行 return x + y。\n",
    "\n",
    "它从两个地方获取值：\n",
    "\n",
    "x 的值 (10)： 来自于它“记住”的 闭包 作用域。\n",
    "\n",
    "y 的值 (5)： 来自于当前的 调用参数。\n",
    "\n",
    "最终计算 10+5，返回 15。\n",
    "\n",
    "🔑 核心概念：闭包 (Closure)\n",
    "这就是柯里化在 Python 中实现的关键。\n",
    "\n",
    "闭包 允许内部函数（adder）在外部函数（make_adder）已经执行完毕后，仍然能够访问并使用外部函数的局部变量（x）。\n",
    "\n",
    "第一次调用 (make_adder(10))： 负责 锁定 或 记住 参数 x。\n",
    "\n",
    "第二次调用 (add_ten(5))： 负责 提供 缺失的参数 y 并执行最终计算。\n",
    "\n",
    "add_ten 是一个函数（内部函数 adder）\n",
    "当您执行 add_ten = make_adder(10) 时：\n",
    "\n",
    "外部函数 make_adder 接收了 10 并将其赋值给局部变量 x。\n",
    "\n",
    "make_adder 执行完毕时，它返回的是内部定义的 adder 函数对象。\n",
    "\n",
    "因此，add_ten 变量的值就是一个可以调用的函数 (adder)。\n",
    "\n",
    "2. adder() 记住了 x=10（闭包）\n",
    "这是最神奇的部分：\n",
    "\n",
    "闭包 (Closure) 机制允许返回的 adder 函数（即 add_ten）**“捕获”并“记住”**了它定义时所处的环境中的变量 x 的值。\n",
    "\n",
    "即使 make_adder(10) 已经运行结束，add_ten 仍然能随时访问到它当初被调用时 x 的值，也就是 10。\n",
    "\n",
    "所以，当您调用 add_ten(5) 时：\n",
    "\n",
    "add_ten（即 adder）接收 y=5。\n",
    "\n",
    "它计算并返回 $x + y$，也就是 10 + 5 = 15。"
   ]
  },
  {
   "cell_type": "code",
   "execution_count": null,
   "metadata": {},
   "outputs": [],
   "source": []
  },
  {
   "cell_type": "code",
   "execution_count": null,
   "metadata": {},
   "outputs": [],
   "source": []
  },
  {
   "cell_type": "markdown",
   "metadata": {},
   "source": [
    "💡 迭代器 (Iterator)：数据访问的“工具”\n",
    "核心思想： 任何能提供 next() 方法来按顺序获取下一个元素的机制，就是迭代器。它是一种协议，提供了循环访问数据的能力。\n",
    "\n",
    "示例代码：手动使用迭代器\n",
    "我们以一个普通的 列表 为例。列表本身是可迭代对象，但要获取迭代器，需要使用 iter() 函数。\n",
    "\n",
    "Python\n",
    "\n",
    "my_list = ['A', 'B', 'C']\n",
    "\n",
    " 1. 获取迭代器（iter() 是标准动作）\n",
    "my_iterator = iter(my_list) \n",
    "\n",
    " 2. 依次调用 next() 方法获取数据\n",
    "print(next(my_iterator))  # 输出: A\n",
    "print(next(my_iterator))  # 输出: B\n",
    "\n",
    " 3. 再次获取（从暂停处继续）\n",
    "print(next(my_iterator))  # 输出: C\n",
    "\n",
    " 4. 再次调用会抛出 StopIteration 错误\n",
    " print(next(my_iterator)) \n",
    "💧 生成器 (Generator)：创建迭代器的“工厂”\n",
    "核心思想： 生成器是 创建迭代器最简单、最节省内存的方式。它使用 yield 关键字来“暂停”和“恢复”执行，按需生成数据。\n",
    "\n",
    "示例代码：使用 yield 创建生成器\n",
    "我们创建一个简单的生成器函数，它只会生成三个值。\n",
    "\n",
    "Python\n",
    "\n",
    "def simple_generator():\n",
    "    print(\" 开始生成 1 \")\n",
    "    yield 1               # 第一次暂停，返回 1\n",
    "    \n",
    "    print(\" 开始生成 2 \")\n",
    "    yield 2               # 第二次暂停，返回 2\n",
    "    \n",
    "    print(\"生成完毕 \")\n",
    "    # 函数自然结束，相当于抛出 StopIteration\n",
    "    \n",
    " 1. 调用函数，得到一个生成器对象（它是一个迭代器）\n",
    "my_generator = simple_generator()\n",
    "print(f\"对象类型: {type(my_generator)}\") # 输出: <class 'generator'>\n",
    "\n",
    "2. 第一次调用 next() (代码从头运行到第一个 yield)\n",
    "print(next(my_generator))  输出:  开始生成 1 , 然后是 1\n",
    "\n",
    " 3. 第二次调用 next() (代码从上次暂停的 yield 之后继续运行)\n",
    "print(next(my_generator))  输出:  开始生成 2 , 然后是 2\n",
    "\n",
    " 4. 第三次调用会完成函数，并抛出 StopIteration\n",
    " print(next(my_generator)) 输出: 生成完毕 , 然后报错\n",
    "\n",
    "简单来说：\n",
    "\n",
    "迭代器 是你用来打开箱子、取出数据的动作。\n",
    "\n",
    "生成器 是一个 “可以帮你做这个动作” 的特殊函数，而且它能边做边省电（省内存）。\n",
    "\n",
    "\n",
    "迭代器 (Iterator) 与 生成器 (Generator) 对比\n",
    "要理解两者，记住这个核心关系：生成器是创建迭代器的一种特殊、高效的方法。\n",
    "\n",
    "1. 定义方式与本质\n",
    "迭代器 (Iterator)：它是一个抽象的标准或协议。任何对象，只要它实现了 __iter__ 和 __next__ 这两个方法，它就是一个迭代器。迭代器定义了“如何一步步取出数据”的规则。\n",
    "\n",
    "生成器 (Generator)：它是一种具体的工具。它是用包含 yield 关键字的特殊函数来定义的。当这个函数被调用时，它会自动为你创建一个符合迭代器协议（即拥有 __next__ 方法）的对象。\n",
    "\n",
    "2. 内存使用与效率\n",
    "迭代器 (Iterator)：从内存角度看，迭代器本身只是一个指针，但它所依赖的数据源通常需要将所有数据预先存储在内存中（例如一个巨大的列表）。\n",
    "\n",
    "生成器 (Generator)：它具有 惰性求值 (Lazy Evaluation) 的特性，因此内存使用非常高效。它不会在内存中存储所有数据，而是在每次被请求时（调用 next() 或在 for 循环中），才计算并生成下一个值。它只在内存中维护当前执行的状态，而不是所有结果。\n",
    "\n",
    "3. 用途和目的\n",
    "迭代器 (Iterator)：它的用途是提供一种标准化的数据访问机制，让任何序列或集合都能被 for 循环访问。它是 Python 语言循环访问数据的基础协议。\n",
    "\n",
    "生成器 (Generator)：它的主要目的是为了节省内存，尤其适用于处理巨型数据集、流式数据或无限序列。它是实现迭代器协议的最简洁、最 Pythonic 的方式。"
   ]
  }
 ],
 "metadata": {
  "kernelspec": {
   "display_name": "Python 3.13.5 ('base')",
   "language": "python",
   "name": "python3"
  },
  "language_info": {
   "codemirror_mode": {
    "name": "ipython",
    "version": 3
   },
   "file_extension": ".py",
   "mimetype": "text/x-python",
   "name": "python",
   "nbconvert_exporter": "python",
   "pygments_lexer": "ipython3",
   "version": "3.13.5"
  },
  "orig_nbformat": 4,
  "vscode": {
   "interpreter": {
    "hash": "bb3ab1c869250a006548da3f3948134c613d99ece87200a41ef05fe751948255"
   }
  }
 },
 "nbformat": 4,
 "nbformat_minor": 2
}
